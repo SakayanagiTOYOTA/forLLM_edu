{
  "cells": [
    {
      "cell_type": "markdown",
      "metadata": {
        "id": "view-in-github",
        "colab_type": "text"
      },
      "source": [
        "<a href=\"https://colab.research.google.com/github/SakayanagiTOYOTA/forLLM_edu/blob/main/pdf2rag.ipynb\" target=\"_parent\"><img src=\"https://colab.research.google.com/assets/colab-badge.svg\" alt=\"Open In Colab\"/></a>"
      ]
    },
    {
      "cell_type": "markdown",
      "metadata": {
        "id": "MuAJNu9FcO9M"
      },
      "source": [
        "# PDFファイルからRAGを作成\n",
        "\n",
        "参考URL https://qiita.com/tatsuki-tsuchiyama/items/179c1ded40b9c54de09a\n",
        "\n",
        "PDFを読込み、RAGとして保存する。本スクリプト実行後にloadrag.pyを実行する事"
      ]
    },
    {
      "cell_type": "code",
      "execution_count": null,
      "metadata": {
        "id": "M3EW78YscO9R"
      },
      "outputs": [],
      "source": [
        "# AzureOpenAIの場合\n",
        "import os\n",
        "os.environ[\"AZURE_OPENAI_API_KEY\"] = \"xxxxxxx\"\n",
        "os.environ[\"AZURE_OPENAI_ENDPOINT\"] = 'https://aoai-aoai04-japaneast.openai.azure.com/'\n",
        "DEPLOYMENT_GPT4o='gpt-4o-2024-05-13'\n",
        "API_VERSION_GPT4o='2024-02-15-preview'\n",
        "DEPLOYMENT_EMBEDDING_ADA='text-embedding-ada-002-2'\n",
        "API_VERSION_EMBEDDING_ADA='2023-05-15'\n",
        "DEPLOYMENT_EMBEDDING_LARGE='text-embedding-3-large-1'\n",
        "API_VERSION_EMBEDDING_LARGE='2023-05-15'\n",
        "\n",
        "MODEL_TYPE='AzureOpenAI'"
      ]
    },
    {
      "cell_type": "code",
      "execution_count": 1,
      "metadata": {
        "id": "hrwdcqdVcO9T"
      },
      "outputs": [],
      "source": [
        "# AWS Bedrockの場合\n",
        "import os\n",
        "os.environ['AWS_ACCESS_KEY_ID'] = 'xxxxxx'\n",
        "os.environ['AWS_SECRET_ACCESS_KEY'] = 'xxxxxxxx'\n",
        "os.environ['AWS_SESSION_TOKEN'] = 'xxxxxxx'\n",
        "os.environ['AWS_DEFAULT_REGION'] = 'ap-northeast-1'\n",
        "\n",
        "MODEL_TYPE='Bedrock'"
      ]
    },
    {
      "cell_type": "markdown",
      "source": [
        "Google Colaboの場合にライブラリインストール"
      ],
      "metadata": {
        "id": "BxuA9sQpd9Ni"
      }
    },
    {
      "cell_type": "code",
      "source": [
        "!pip install langchain-aws pypdf  faiss-cpu"
      ],
      "metadata": {
        "colab": {
          "base_uri": "https://localhost:8080/"
        },
        "id": "RwDOgfSUd7Uy",
        "outputId": "a74be23b-cec4-4124-f074-19a36157119e"
      },
      "execution_count": 5,
      "outputs": [
        {
          "output_type": "stream",
          "name": "stdout",
          "text": [
            "Requirement already satisfied: langchain-aws in /usr/local/lib/python3.10/dist-packages (0.2.7)\n",
            "Requirement already satisfied: pypdf in /usr/local/lib/python3.10/dist-packages (5.1.0)\n",
            "Requirement already satisfied: faiss-cpu in /usr/local/lib/python3.10/dist-packages (1.9.0)\n",
            "Requirement already satisfied: boto3>=1.34.131 in /usr/local/lib/python3.10/dist-packages (from langchain-aws) (1.35.61)\n",
            "Requirement already satisfied: langchain-core<0.4,>=0.3.15 in /usr/local/lib/python3.10/dist-packages (from langchain-aws) (0.3.18)\n",
            "Requirement already satisfied: numpy<2,>=1 in /usr/local/lib/python3.10/dist-packages (from langchain-aws) (1.26.4)\n",
            "Requirement already satisfied: pydantic<3,>=2 in /usr/local/lib/python3.10/dist-packages (from langchain-aws) (2.9.2)\n",
            "Requirement already satisfied: typing_extensions>=4.0 in /usr/local/lib/python3.10/dist-packages (from pypdf) (4.12.2)\n",
            "Requirement already satisfied: packaging in /usr/local/lib/python3.10/dist-packages (from faiss-cpu) (24.2)\n",
            "Requirement already satisfied: botocore<1.36.0,>=1.35.61 in /usr/local/lib/python3.10/dist-packages (from boto3>=1.34.131->langchain-aws) (1.35.61)\n",
            "Requirement already satisfied: jmespath<2.0.0,>=0.7.1 in /usr/local/lib/python3.10/dist-packages (from boto3>=1.34.131->langchain-aws) (1.0.1)\n",
            "Requirement already satisfied: s3transfer<0.11.0,>=0.10.0 in /usr/local/lib/python3.10/dist-packages (from boto3>=1.34.131->langchain-aws) (0.10.3)\n",
            "Requirement already satisfied: PyYAML>=5.3 in /usr/local/lib/python3.10/dist-packages (from langchain-core<0.4,>=0.3.15->langchain-aws) (6.0.2)\n",
            "Requirement already satisfied: jsonpatch<2.0,>=1.33 in /usr/local/lib/python3.10/dist-packages (from langchain-core<0.4,>=0.3.15->langchain-aws) (1.33)\n",
            "Requirement already satisfied: langsmith<0.2.0,>=0.1.125 in /usr/local/lib/python3.10/dist-packages (from langchain-core<0.4,>=0.3.15->langchain-aws) (0.1.142)\n",
            "Requirement already satisfied: tenacity!=8.4.0,<10.0.0,>=8.1.0 in /usr/local/lib/python3.10/dist-packages (from langchain-core<0.4,>=0.3.15->langchain-aws) (9.0.0)\n",
            "Requirement already satisfied: annotated-types>=0.6.0 in /usr/local/lib/python3.10/dist-packages (from pydantic<3,>=2->langchain-aws) (0.7.0)\n",
            "Requirement already satisfied: pydantic-core==2.23.4 in /usr/local/lib/python3.10/dist-packages (from pydantic<3,>=2->langchain-aws) (2.23.4)\n",
            "Requirement already satisfied: python-dateutil<3.0.0,>=2.1 in /usr/local/lib/python3.10/dist-packages (from botocore<1.36.0,>=1.35.61->boto3>=1.34.131->langchain-aws) (2.8.2)\n",
            "Requirement already satisfied: urllib3!=2.2.0,<3,>=1.25.4 in /usr/local/lib/python3.10/dist-packages (from botocore<1.36.0,>=1.35.61->boto3>=1.34.131->langchain-aws) (2.2.3)\n",
            "Requirement already satisfied: jsonpointer>=1.9 in /usr/local/lib/python3.10/dist-packages (from jsonpatch<2.0,>=1.33->langchain-core<0.4,>=0.3.15->langchain-aws) (3.0.0)\n",
            "Requirement already satisfied: httpx<1,>=0.23.0 in /usr/local/lib/python3.10/dist-packages (from langsmith<0.2.0,>=0.1.125->langchain-core<0.4,>=0.3.15->langchain-aws) (0.27.2)\n",
            "Requirement already satisfied: orjson<4.0.0,>=3.9.14 in /usr/local/lib/python3.10/dist-packages (from langsmith<0.2.0,>=0.1.125->langchain-core<0.4,>=0.3.15->langchain-aws) (3.10.11)\n",
            "Requirement already satisfied: requests<3,>=2 in /usr/local/lib/python3.10/dist-packages (from langsmith<0.2.0,>=0.1.125->langchain-core<0.4,>=0.3.15->langchain-aws) (2.32.3)\n",
            "Requirement already satisfied: requests-toolbelt<2.0.0,>=1.0.0 in /usr/local/lib/python3.10/dist-packages (from langsmith<0.2.0,>=0.1.125->langchain-core<0.4,>=0.3.15->langchain-aws) (1.0.0)\n",
            "Requirement already satisfied: anyio in /usr/local/lib/python3.10/dist-packages (from httpx<1,>=0.23.0->langsmith<0.2.0,>=0.1.125->langchain-core<0.4,>=0.3.15->langchain-aws) (3.7.1)\n",
            "Requirement already satisfied: certifi in /usr/local/lib/python3.10/dist-packages (from httpx<1,>=0.23.0->langsmith<0.2.0,>=0.1.125->langchain-core<0.4,>=0.3.15->langchain-aws) (2024.8.30)\n",
            "Requirement already satisfied: httpcore==1.* in /usr/local/lib/python3.10/dist-packages (from httpx<1,>=0.23.0->langsmith<0.2.0,>=0.1.125->langchain-core<0.4,>=0.3.15->langchain-aws) (1.0.6)\n",
            "Requirement already satisfied: idna in /usr/local/lib/python3.10/dist-packages (from httpx<1,>=0.23.0->langsmith<0.2.0,>=0.1.125->langchain-core<0.4,>=0.3.15->langchain-aws) (3.10)\n",
            "Requirement already satisfied: sniffio in /usr/local/lib/python3.10/dist-packages (from httpx<1,>=0.23.0->langsmith<0.2.0,>=0.1.125->langchain-core<0.4,>=0.3.15->langchain-aws) (1.3.1)\n",
            "Requirement already satisfied: h11<0.15,>=0.13 in /usr/local/lib/python3.10/dist-packages (from httpcore==1.*->httpx<1,>=0.23.0->langsmith<0.2.0,>=0.1.125->langchain-core<0.4,>=0.3.15->langchain-aws) (0.14.0)\n",
            "Requirement already satisfied: six>=1.5 in /usr/local/lib/python3.10/dist-packages (from python-dateutil<3.0.0,>=2.1->botocore<1.36.0,>=1.35.61->boto3>=1.34.131->langchain-aws) (1.16.0)\n",
            "Requirement already satisfied: charset-normalizer<4,>=2 in /usr/local/lib/python3.10/dist-packages (from requests<3,>=2->langsmith<0.2.0,>=0.1.125->langchain-core<0.4,>=0.3.15->langchain-aws) (3.4.0)\n",
            "Requirement already satisfied: exceptiongroup in /usr/local/lib/python3.10/dist-packages (from anyio->httpx<1,>=0.23.0->langsmith<0.2.0,>=0.1.125->langchain-core<0.4,>=0.3.15->langchain-aws) (1.2.2)\n"
          ]
        }
      ]
    },
    {
      "cell_type": "markdown",
      "source": [
        "定数設定"
      ],
      "metadata": {
        "id": "WHw_7cLscTdJ"
      }
    },
    {
      "cell_type": "code",
      "source": [
        "CHUNK_SIZE = 1000\n",
        "PDF_PATH = 'OCPP-2.0.1_part2_specification.pdf'"
      ],
      "metadata": {
        "id": "tFDN_-aKcXDR"
      },
      "execution_count": 3,
      "outputs": []
    },
    {
      "cell_type": "markdown",
      "source": [
        "モデルの読込"
      ],
      "metadata": {
        "id": "fI_moEBZcwyJ"
      }
    },
    {
      "cell_type": "code",
      "source": [
        "if MODEL_TYPE == 'AzureOpenAI':\n",
        "  from langchain.embeddings import AzureOpenAIEmbeddings\n",
        "  embeddings = AzureOpenAIEmbeddings(azure_deployment=DEPLOYMENT_EMBEDDING_LARGE,\n",
        "    chunk_size=CHUNK_SIZE\n",
        "  )\n",
        "\n",
        "elif MODEL_TYPE == 'Bedrock':\n",
        "  from langchain_aws import BedrockEmbeddings\n",
        "  embeddings=BedrockEmbeddings(model_id=\"amazon.titan-embed-text-v1\",region_name=\"ap-northeast-1\")\n"
      ],
      "metadata": {
        "id": "Z4j8ZdIXcyUH"
      },
      "execution_count": 6,
      "outputs": []
    },
    {
      "cell_type": "markdown",
      "source": [
        "## PDF読込\n",
        "\n",
        "Google Colaboの場合はPDF読み込む前にPDFファイルをアップロードしてください。"
      ],
      "metadata": {
        "id": "S_AcfC3TeWmv"
      }
    },
    {
      "cell_type": "code",
      "source": [
        "# PDFを読み込み\n",
        "from langchain.document_loaders import PyPDFLoader\n",
        "loader = PyPDFLoader(PDF_PATH)\n",
        "pages = loader.load_and_split()"
      ],
      "metadata": {
        "id": "SvKxybq_eZGf"
      },
      "execution_count": 8,
      "outputs": []
    },
    {
      "cell_type": "markdown",
      "source": [
        "ページの一部を表示"
      ],
      "metadata": {
        "id": "6CrBk9dCg5MI"
      }
    },
    {
      "cell_type": "code",
      "source": [
        "print(pages[1])"
      ],
      "metadata": {
        "colab": {
          "base_uri": "https://localhost:8080/"
        },
        "id": "jk3i4_hYe_dK",
        "outputId": "5fe252d3-21f4-4d85-d271-124a272e79fc"
      },
      "execution_count": 9,
      "outputs": [
        {
          "output_type": "stream",
          "name": "stdout",
          "text": [
            "page_content='Table of Contents\n",
            "Disclaimer . . . . . . . . . . . . . . . . . . . . . . . . . . . . . . . . . . . . . . . . . . . . . . . . . . . . . . . . . . . . . . . . . . . . . . . . . . . . . . . . . . . . . . . . . . . . . . . . . . . . . . .  1\n",
            "Generic. . . . . . . . . . . . . . . . . . . . . . . . . . . . . . . . . . . . . . . . . . . . . . . . . . . . . . . . . . . . . . . . . . . . . . . . . . . . . . . . . . . . . . . . . . . . . . . . . . . . . . . . . .  2\n",
            "Version History. . . . . . . . . . . . . . . . . . . . . . . . . . . . . . . . . . . . . . . . . . . . . . . . . . . . . . . . . . . . . . . . . . . . . . . . . . . . . . . . . . . . . . . . . . . . . . . .  3\n",
            "1. Scope . . . . . . . . . . . . . . . . . . . . . . . . . . . . . . . . . . . . . . . . . . . . . . . . . . . . . . . . . . . . . . . . . . . . . . . . . . . . . . . . . . . . . . . . . . . . . . . . . . . . .  4\n",
            "1.1. OCPP 2.0.1 . . . . . . . . . . . . . . . . . . . . . . . . . . . . . . . . . . . . . . . . . . . . . . . . . . . . . . . . . . . . . . . . . . . . . . . . . . . . . . . . . . . . . . . . . . . .  4\n",
            "2. Conventions, Terminology and Abbreviations . . . . . . . . . . . . . . . . . . . . . . . . . . . . . . . . . . . . . . . . . . . . . . . . . . . . . . . . . . . . . . . . . . . .  5\n",
            "2.1. Conventions . . . . . . . . . . . . . . . . . . . . . . . . . . . . . . . . . . . . . . . . . . . . . . . . . . . . . . . . . . . . . . . . . . . . . . . . . . . . . . . . . . . . . . . . . . .  5\n",
            "2.2. Terminology . . . . . . . . . . . . . . . . . . . . . . . . . . . . . . . . . . . . . . . . . . . . . . . . . . . . . . . . . . . . . . . . . . . . . . . . . . . . . . . . . . . . . . . . . . .  6\n",
            "2.3. Abbreviations . . . . . . . . . . . . . . . . . . . . . . . . . . . . . . . . . . . . . . . . . . . . . . . . . . . . . . . . . . . . . . . . . . . . . . . . . . . . . . . . . . . . . . . . . .  8\n",
            "2.4. Actors . . . . . . . . . . . . . . . . . . . . . . . . . . . . . . . . . . . . . . . . . . . . . . . . . . . . . . . . . . . . . . . . . . . . . . . . . . . . . . . . . . . . . . . . . . . . . . .  10\n",
            "2.5. References . . . . . . . . . . . . . . . . . . . . . . . . . . . . . . . . . . . . . . . . . . . . . . . . . . . . . . . . . . . . . . . . . . . . . . . . . . . . . . . . . . . . . . . . . . .  10\n",
            "2.6. Definition of Transaction . . . . . . . . . . . . . . . . . . . . . . . . . . . . . . . . . . . . . . . . . . . . . . . . . . . . . . . . . . . . . . . . . . . . . . . . . . . . . . .  12\n",
            "2.7. ISO 15118 support. . . . . . . . . . . . . . . . . . . . . . . . . . . . . . . . . . . . . . . . . . . . . . . . . . . . . . . . . . . . . . . . . . . . . . . . . . . . . . . . . . . . .  13\n",
            "3. Generic Requirements. . . . . . . . . . . . . . . . . . . . . . . . . . . . . . . . . . . . . . . . . . . . . . . . . . . . . . . . . . . . . . . . . . . . . . . . . . . . . . . . . . . . . . .  15\n",
            "3.1. Time Format Requirements . . . . . . . . . . . . . . . . . . . . . . . . . . . . . . . . . . . . . . . . . . . . . . . . . . . . . . . . . . . . . . . . . . . . . . . . . . . . .  15\n",
            "3.2. Message Timeouts . . . . . . . . . . . . . . . . . . . . . . . . . . . . . . . . . . . . . . . . . . . . . . . . . . . . . . . . . . . . . . . . . . . . . . . . . . . . . . . . . . . .  16\n",
            "3.3. Language support . . . . . . . . . . . . . . . . . . . . . . . . . . . . . . . . . . . . . . . . . . . . . . . . . . . . . . . . . . . . . . . . . . . . . . . . . . . . . . . . . . . . .  16\n",
            "A. Security . . . . . . . . . . . . . . . . . . . . . . . . . . . . . . . . . . . . . . . . . . . . . . . . . . . . . . . . . . . . . . . . . . . . . . . . . . . . . . . . . . . . . . . . . . . . . . . . . . . . . .  17\n",
            "1. OCPP Security . . . . . . . . . . . . . . . . . . . . . . . . . . . . . . . . . . . . . . . . . . . . . . . . . . . . . . . . . . . . . . . . . . . . . . . . . . . . . . . . . . . . . . . . . . . . .  18' metadata={'source': 'OCPP-2.0.1_part2_specification.pdf', 'page': 1}\n"
          ]
        }
      ]
    },
    {
      "cell_type": "markdown",
      "source": [
        "## ベクトル化"
      ],
      "metadata": {
        "id": "k2dA7WhmhBfZ"
      }
    },
    {
      "cell_type": "code",
      "source": [
        "# 空のベクトルストアを作成\n",
        "from langchain.vectorstores import FAISS\n",
        "dummy_text, dummyy_id = \"1\",1\n",
        "vectorstore = FAISS.from_texts([dummy_text],embeddings, ids=[dummyy_id])\n",
        "vectorstore.delete([dummyy_id])"
      ],
      "metadata": {
        "colab": {
          "base_uri": "https://localhost:8080/"
        },
        "id": "qBsQJp-VhGS3",
        "outputId": "519a3f40-5e44-4e48-a504-d77324334e15"
      },
      "execution_count": 10,
      "outputs": [
        {
          "output_type": "execute_result",
          "data": {
            "text/plain": [
              "True"
            ]
          },
          "metadata": {},
          "execution_count": 10
        }
      ]
    },
    {
      "cell_type": "code",
      "source": [
        "# ページごとにベクトル化\n",
        "from langchain.text_splitter import CharacterTextSplitter\n",
        "text_splitter = CharacterTextSplitter( chunk_size = CHUNK_SIZE)\n",
        "for page in pages:\n",
        "    docs = text_splitter.split_documents([page])\n",
        "    vectorstore.merge_from(FAISS.from_documents(docs,embeddings))\n",
        "#    print(f\"ベクトル化完了: {page.metadata[\"source\"]} - ページ {page.metadata[\"page\"]}\")\n",
        "    print(f\"finish: {page.metadata['source']} - page {page.metadata['page']}\")"
      ],
      "metadata": {
        "colab": {
          "base_uri": "https://localhost:8080/"
        },
        "id": "4Rhr9PuBha5b",
        "outputId": "c25ce05d-3ca8-4fc9-9ad5-9d8e35c27481"
      },
      "execution_count": 11,
      "outputs": [
        {
          "output_type": "stream",
          "name": "stdout",
          "text": [
            "finish: OCPP-2.0.1_part2_specification.pdf - page 0\n",
            "finish: OCPP-2.0.1_part2_specification.pdf - page 1\n",
            "finish: OCPP-2.0.1_part2_specification.pdf - page 1\n",
            "finish: OCPP-2.0.1_part2_specification.pdf - page 1\n",
            "finish: OCPP-2.0.1_part2_specification.pdf - page 2\n",
            "finish: OCPP-2.0.1_part2_specification.pdf - page 2\n",
            "finish: OCPP-2.0.1_part2_specification.pdf - page 2\n",
            "finish: OCPP-2.0.1_part2_specification.pdf - page 3\n",
            "finish: OCPP-2.0.1_part2_specification.pdf - page 3\n",
            "finish: OCPP-2.0.1_part2_specification.pdf - page 3\n",
            "finish: OCPP-2.0.1_part2_specification.pdf - page 3\n",
            "finish: OCPP-2.0.1_part2_specification.pdf - page 4\n",
            "finish: OCPP-2.0.1_part2_specification.pdf - page 4\n",
            "finish: OCPP-2.0.1_part2_specification.pdf - page 4\n",
            "finish: OCPP-2.0.1_part2_specification.pdf - page 5\n",
            "finish: OCPP-2.0.1_part2_specification.pdf - page 5\n",
            "finish: OCPP-2.0.1_part2_specification.pdf - page 5\n",
            "finish: OCPP-2.0.1_part2_specification.pdf - page 5\n",
            "finish: OCPP-2.0.1_part2_specification.pdf - page 6\n",
            "finish: OCPP-2.0.1_part2_specification.pdf - page 6\n",
            "finish: OCPP-2.0.1_part2_specification.pdf - page 6\n",
            "finish: OCPP-2.0.1_part2_specification.pdf - page 6\n",
            "finish: OCPP-2.0.1_part2_specification.pdf - page 7\n",
            "finish: OCPP-2.0.1_part2_specification.pdf - page 7\n",
            "finish: OCPP-2.0.1_part2_specification.pdf - page 7\n",
            "finish: OCPP-2.0.1_part2_specification.pdf - page 8\n",
            "finish: OCPP-2.0.1_part2_specification.pdf - page 8\n",
            "finish: OCPP-2.0.1_part2_specification.pdf - page 8\n",
            "finish: OCPP-2.0.1_part2_specification.pdf - page 9\n",
            "finish: OCPP-2.0.1_part2_specification.pdf - page 10\n",
            "finish: OCPP-2.0.1_part2_specification.pdf - page 11\n",
            "finish: OCPP-2.0.1_part2_specification.pdf - page 12\n",
            "finish: OCPP-2.0.1_part2_specification.pdf - page 13\n",
            "finish: OCPP-2.0.1_part2_specification.pdf - page 14\n",
            "finish: OCPP-2.0.1_part2_specification.pdf - page 15\n",
            "finish: OCPP-2.0.1_part2_specification.pdf - page 15\n",
            "finish: OCPP-2.0.1_part2_specification.pdf - page 16\n",
            "finish: OCPP-2.0.1_part2_specification.pdf - page 16\n",
            "finish: OCPP-2.0.1_part2_specification.pdf - page 17\n",
            "finish: OCPP-2.0.1_part2_specification.pdf - page 18\n",
            "finish: OCPP-2.0.1_part2_specification.pdf - page 19\n",
            "finish: OCPP-2.0.1_part2_specification.pdf - page 20\n",
            "finish: OCPP-2.0.1_part2_specification.pdf - page 20\n",
            "finish: OCPP-2.0.1_part2_specification.pdf - page 21\n",
            "finish: OCPP-2.0.1_part2_specification.pdf - page 22\n",
            "finish: OCPP-2.0.1_part2_specification.pdf - page 23\n",
            "finish: OCPP-2.0.1_part2_specification.pdf - page 24\n",
            "finish: OCPP-2.0.1_part2_specification.pdf - page 25\n",
            "finish: OCPP-2.0.1_part2_specification.pdf - page 26\n",
            "finish: OCPP-2.0.1_part2_specification.pdf - page 27\n",
            "finish: OCPP-2.0.1_part2_specification.pdf - page 28\n",
            "finish: OCPP-2.0.1_part2_specification.pdf - page 29\n",
            "finish: OCPP-2.0.1_part2_specification.pdf - page 30\n",
            "finish: OCPP-2.0.1_part2_specification.pdf - page 31\n",
            "finish: OCPP-2.0.1_part2_specification.pdf - page 32\n",
            "finish: OCPP-2.0.1_part2_specification.pdf - page 33\n",
            "finish: OCPP-2.0.1_part2_specification.pdf - page 34\n",
            "finish: OCPP-2.0.1_part2_specification.pdf - page 35\n",
            "finish: OCPP-2.0.1_part2_specification.pdf - page 36\n",
            "finish: OCPP-2.0.1_part2_specification.pdf - page 37\n",
            "finish: OCPP-2.0.1_part2_specification.pdf - page 38\n",
            "finish: OCPP-2.0.1_part2_specification.pdf - page 39\n",
            "finish: OCPP-2.0.1_part2_specification.pdf - page 40\n",
            "finish: OCPP-2.0.1_part2_specification.pdf - page 41\n",
            "finish: OCPP-2.0.1_part2_specification.pdf - page 42\n",
            "finish: OCPP-2.0.1_part2_specification.pdf - page 42\n",
            "finish: OCPP-2.0.1_part2_specification.pdf - page 43\n",
            "finish: OCPP-2.0.1_part2_specification.pdf - page 44\n",
            "finish: OCPP-2.0.1_part2_specification.pdf - page 45\n",
            "finish: OCPP-2.0.1_part2_specification.pdf - page 46\n",
            "finish: OCPP-2.0.1_part2_specification.pdf - page 47\n",
            "finish: OCPP-2.0.1_part2_specification.pdf - page 48\n",
            "finish: OCPP-2.0.1_part2_specification.pdf - page 49\n",
            "finish: OCPP-2.0.1_part2_specification.pdf - page 50\n",
            "finish: OCPP-2.0.1_part2_specification.pdf - page 51\n",
            "finish: OCPP-2.0.1_part2_specification.pdf - page 52\n",
            "finish: OCPP-2.0.1_part2_specification.pdf - page 53\n",
            "finish: OCPP-2.0.1_part2_specification.pdf - page 54\n",
            "finish: OCPP-2.0.1_part2_specification.pdf - page 55\n",
            "finish: OCPP-2.0.1_part2_specification.pdf - page 56\n",
            "finish: OCPP-2.0.1_part2_specification.pdf - page 57\n",
            "finish: OCPP-2.0.1_part2_specification.pdf - page 58\n",
            "finish: OCPP-2.0.1_part2_specification.pdf - page 59\n",
            "finish: OCPP-2.0.1_part2_specification.pdf - page 60\n",
            "finish: OCPP-2.0.1_part2_specification.pdf - page 61\n",
            "finish: OCPP-2.0.1_part2_specification.pdf - page 62\n",
            "finish: OCPP-2.0.1_part2_specification.pdf - page 62\n",
            "finish: OCPP-2.0.1_part2_specification.pdf - page 63\n",
            "finish: OCPP-2.0.1_part2_specification.pdf - page 64\n",
            "finish: OCPP-2.0.1_part2_specification.pdf - page 65\n",
            "finish: OCPP-2.0.1_part2_specification.pdf - page 66\n",
            "finish: OCPP-2.0.1_part2_specification.pdf - page 67\n",
            "finish: OCPP-2.0.1_part2_specification.pdf - page 68\n",
            "finish: OCPP-2.0.1_part2_specification.pdf - page 69\n",
            "finish: OCPP-2.0.1_part2_specification.pdf - page 70\n",
            "finish: OCPP-2.0.1_part2_specification.pdf - page 71\n",
            "finish: OCPP-2.0.1_part2_specification.pdf - page 72\n",
            "finish: OCPP-2.0.1_part2_specification.pdf - page 73\n",
            "finish: OCPP-2.0.1_part2_specification.pdf - page 74\n",
            "finish: OCPP-2.0.1_part2_specification.pdf - page 75\n",
            "finish: OCPP-2.0.1_part2_specification.pdf - page 76\n",
            "finish: OCPP-2.0.1_part2_specification.pdf - page 77\n",
            "finish: OCPP-2.0.1_part2_specification.pdf - page 78\n",
            "finish: OCPP-2.0.1_part2_specification.pdf - page 78\n",
            "finish: OCPP-2.0.1_part2_specification.pdf - page 79\n",
            "finish: OCPP-2.0.1_part2_specification.pdf - page 79\n",
            "finish: OCPP-2.0.1_part2_specification.pdf - page 80\n",
            "finish: OCPP-2.0.1_part2_specification.pdf - page 81\n",
            "finish: OCPP-2.0.1_part2_specification.pdf - page 82\n",
            "finish: OCPP-2.0.1_part2_specification.pdf - page 83\n",
            "finish: OCPP-2.0.1_part2_specification.pdf - page 84\n",
            "finish: OCPP-2.0.1_part2_specification.pdf - page 85\n",
            "finish: OCPP-2.0.1_part2_specification.pdf - page 86\n",
            "finish: OCPP-2.0.1_part2_specification.pdf - page 87\n",
            "finish: OCPP-2.0.1_part2_specification.pdf - page 88\n",
            "finish: OCPP-2.0.1_part2_specification.pdf - page 89\n",
            "finish: OCPP-2.0.1_part2_specification.pdf - page 90\n",
            "finish: OCPP-2.0.1_part2_specification.pdf - page 91\n",
            "finish: OCPP-2.0.1_part2_specification.pdf - page 92\n",
            "finish: OCPP-2.0.1_part2_specification.pdf - page 93\n",
            "finish: OCPP-2.0.1_part2_specification.pdf - page 94\n",
            "finish: OCPP-2.0.1_part2_specification.pdf - page 95\n",
            "finish: OCPP-2.0.1_part2_specification.pdf - page 96\n",
            "finish: OCPP-2.0.1_part2_specification.pdf - page 97\n",
            "finish: OCPP-2.0.1_part2_specification.pdf - page 98\n",
            "finish: OCPP-2.0.1_part2_specification.pdf - page 99\n",
            "finish: OCPP-2.0.1_part2_specification.pdf - page 100\n",
            "finish: OCPP-2.0.1_part2_specification.pdf - page 101\n",
            "finish: OCPP-2.0.1_part2_specification.pdf - page 102\n",
            "finish: OCPP-2.0.1_part2_specification.pdf - page 103\n",
            "finish: OCPP-2.0.1_part2_specification.pdf - page 104\n",
            "finish: OCPP-2.0.1_part2_specification.pdf - page 105\n",
            "finish: OCPP-2.0.1_part2_specification.pdf - page 106\n",
            "finish: OCPP-2.0.1_part2_specification.pdf - page 107\n",
            "finish: OCPP-2.0.1_part2_specification.pdf - page 108\n",
            "finish: OCPP-2.0.1_part2_specification.pdf - page 109\n",
            "finish: OCPP-2.0.1_part2_specification.pdf - page 110\n",
            "finish: OCPP-2.0.1_part2_specification.pdf - page 111\n",
            "finish: OCPP-2.0.1_part2_specification.pdf - page 112\n",
            "finish: OCPP-2.0.1_part2_specification.pdf - page 113\n",
            "finish: OCPP-2.0.1_part2_specification.pdf - page 114\n",
            "finish: OCPP-2.0.1_part2_specification.pdf - page 115\n",
            "finish: OCPP-2.0.1_part2_specification.pdf - page 116\n",
            "finish: OCPP-2.0.1_part2_specification.pdf - page 117\n",
            "finish: OCPP-2.0.1_part2_specification.pdf - page 118\n",
            "finish: OCPP-2.0.1_part2_specification.pdf - page 119\n",
            "finish: OCPP-2.0.1_part2_specification.pdf - page 120\n",
            "finish: OCPP-2.0.1_part2_specification.pdf - page 121\n",
            "finish: OCPP-2.0.1_part2_specification.pdf - page 122\n",
            "finish: OCPP-2.0.1_part2_specification.pdf - page 123\n",
            "finish: OCPP-2.0.1_part2_specification.pdf - page 124\n",
            "finish: OCPP-2.0.1_part2_specification.pdf - page 125\n",
            "finish: OCPP-2.0.1_part2_specification.pdf - page 126\n",
            "finish: OCPP-2.0.1_part2_specification.pdf - page 127\n",
            "finish: OCPP-2.0.1_part2_specification.pdf - page 128\n",
            "finish: OCPP-2.0.1_part2_specification.pdf - page 129\n",
            "finish: OCPP-2.0.1_part2_specification.pdf - page 130\n",
            "finish: OCPP-2.0.1_part2_specification.pdf - page 131\n",
            "finish: OCPP-2.0.1_part2_specification.pdf - page 132\n",
            "finish: OCPP-2.0.1_part2_specification.pdf - page 133\n",
            "finish: OCPP-2.0.1_part2_specification.pdf - page 134\n",
            "finish: OCPP-2.0.1_part2_specification.pdf - page 135\n",
            "finish: OCPP-2.0.1_part2_specification.pdf - page 136\n",
            "finish: OCPP-2.0.1_part2_specification.pdf - page 137\n",
            "finish: OCPP-2.0.1_part2_specification.pdf - page 138\n",
            "finish: OCPP-2.0.1_part2_specification.pdf - page 139\n",
            "finish: OCPP-2.0.1_part2_specification.pdf - page 140\n",
            "finish: OCPP-2.0.1_part2_specification.pdf - page 141\n",
            "finish: OCPP-2.0.1_part2_specification.pdf - page 142\n",
            "finish: OCPP-2.0.1_part2_specification.pdf - page 143\n",
            "finish: OCPP-2.0.1_part2_specification.pdf - page 144\n",
            "finish: OCPP-2.0.1_part2_specification.pdf - page 145\n",
            "finish: OCPP-2.0.1_part2_specification.pdf - page 146\n",
            "finish: OCPP-2.0.1_part2_specification.pdf - page 147\n",
            "finish: OCPP-2.0.1_part2_specification.pdf - page 148\n",
            "finish: OCPP-2.0.1_part2_specification.pdf - page 149\n",
            "finish: OCPP-2.0.1_part2_specification.pdf - page 150\n",
            "finish: OCPP-2.0.1_part2_specification.pdf - page 151\n",
            "finish: OCPP-2.0.1_part2_specification.pdf - page 152\n",
            "finish: OCPP-2.0.1_part2_specification.pdf - page 153\n",
            "finish: OCPP-2.0.1_part2_specification.pdf - page 154\n",
            "finish: OCPP-2.0.1_part2_specification.pdf - page 155\n",
            "finish: OCPP-2.0.1_part2_specification.pdf - page 156\n",
            "finish: OCPP-2.0.1_part2_specification.pdf - page 157\n",
            "finish: OCPP-2.0.1_part2_specification.pdf - page 158\n",
            "finish: OCPP-2.0.1_part2_specification.pdf - page 159\n",
            "finish: OCPP-2.0.1_part2_specification.pdf - page 160\n",
            "finish: OCPP-2.0.1_part2_specification.pdf - page 161\n",
            "finish: OCPP-2.0.1_part2_specification.pdf - page 162\n",
            "finish: OCPP-2.0.1_part2_specification.pdf - page 163\n",
            "finish: OCPP-2.0.1_part2_specification.pdf - page 164\n",
            "finish: OCPP-2.0.1_part2_specification.pdf - page 165\n",
            "finish: OCPP-2.0.1_part2_specification.pdf - page 166\n",
            "finish: OCPP-2.0.1_part2_specification.pdf - page 167\n",
            "finish: OCPP-2.0.1_part2_specification.pdf - page 168\n",
            "finish: OCPP-2.0.1_part2_specification.pdf - page 169\n",
            "finish: OCPP-2.0.1_part2_specification.pdf - page 170\n",
            "finish: OCPP-2.0.1_part2_specification.pdf - page 171\n",
            "finish: OCPP-2.0.1_part2_specification.pdf - page 172\n",
            "finish: OCPP-2.0.1_part2_specification.pdf - page 173\n",
            "finish: OCPP-2.0.1_part2_specification.pdf - page 174\n",
            "finish: OCPP-2.0.1_part2_specification.pdf - page 175\n",
            "finish: OCPP-2.0.1_part2_specification.pdf - page 176\n",
            "finish: OCPP-2.0.1_part2_specification.pdf - page 177\n",
            "finish: OCPP-2.0.1_part2_specification.pdf - page 178\n",
            "finish: OCPP-2.0.1_part2_specification.pdf - page 179\n",
            "finish: OCPP-2.0.1_part2_specification.pdf - page 180\n",
            "finish: OCPP-2.0.1_part2_specification.pdf - page 181\n",
            "finish: OCPP-2.0.1_part2_specification.pdf - page 182\n",
            "finish: OCPP-2.0.1_part2_specification.pdf - page 183\n",
            "finish: OCPP-2.0.1_part2_specification.pdf - page 184\n",
            "finish: OCPP-2.0.1_part2_specification.pdf - page 185\n",
            "finish: OCPP-2.0.1_part2_specification.pdf - page 186\n",
            "finish: OCPP-2.0.1_part2_specification.pdf - page 187\n",
            "finish: OCPP-2.0.1_part2_specification.pdf - page 188\n",
            "finish: OCPP-2.0.1_part2_specification.pdf - page 189\n",
            "finish: OCPP-2.0.1_part2_specification.pdf - page 190\n",
            "finish: OCPP-2.0.1_part2_specification.pdf - page 191\n",
            "finish: OCPP-2.0.1_part2_specification.pdf - page 192\n",
            "finish: OCPP-2.0.1_part2_specification.pdf - page 193\n",
            "finish: OCPP-2.0.1_part2_specification.pdf - page 194\n",
            "finish: OCPP-2.0.1_part2_specification.pdf - page 195\n",
            "finish: OCPP-2.0.1_part2_specification.pdf - page 196\n",
            "finish: OCPP-2.0.1_part2_specification.pdf - page 197\n",
            "finish: OCPP-2.0.1_part2_specification.pdf - page 198\n",
            "finish: OCPP-2.0.1_part2_specification.pdf - page 199\n",
            "finish: OCPP-2.0.1_part2_specification.pdf - page 200\n",
            "finish: OCPP-2.0.1_part2_specification.pdf - page 201\n",
            "finish: OCPP-2.0.1_part2_specification.pdf - page 202\n",
            "finish: OCPP-2.0.1_part2_specification.pdf - page 203\n",
            "finish: OCPP-2.0.1_part2_specification.pdf - page 204\n",
            "finish: OCPP-2.0.1_part2_specification.pdf - page 205\n",
            "finish: OCPP-2.0.1_part2_specification.pdf - page 206\n",
            "finish: OCPP-2.0.1_part2_specification.pdf - page 207\n",
            "finish: OCPP-2.0.1_part2_specification.pdf - page 208\n",
            "finish: OCPP-2.0.1_part2_specification.pdf - page 209\n",
            "finish: OCPP-2.0.1_part2_specification.pdf - page 210\n",
            "finish: OCPP-2.0.1_part2_specification.pdf - page 211\n",
            "finish: OCPP-2.0.1_part2_specification.pdf - page 212\n",
            "finish: OCPP-2.0.1_part2_specification.pdf - page 213\n",
            "finish: OCPP-2.0.1_part2_specification.pdf - page 214\n",
            "finish: OCPP-2.0.1_part2_specification.pdf - page 215\n",
            "finish: OCPP-2.0.1_part2_specification.pdf - page 216\n",
            "finish: OCPP-2.0.1_part2_specification.pdf - page 217\n",
            "finish: OCPP-2.0.1_part2_specification.pdf - page 218\n",
            "finish: OCPP-2.0.1_part2_specification.pdf - page 219\n",
            "finish: OCPP-2.0.1_part2_specification.pdf - page 220\n",
            "finish: OCPP-2.0.1_part2_specification.pdf - page 221\n",
            "finish: OCPP-2.0.1_part2_specification.pdf - page 222\n",
            "finish: OCPP-2.0.1_part2_specification.pdf - page 223\n",
            "finish: OCPP-2.0.1_part2_specification.pdf - page 224\n",
            "finish: OCPP-2.0.1_part2_specification.pdf - page 225\n",
            "finish: OCPP-2.0.1_part2_specification.pdf - page 226\n",
            "finish: OCPP-2.0.1_part2_specification.pdf - page 227\n",
            "finish: OCPP-2.0.1_part2_specification.pdf - page 228\n",
            "finish: OCPP-2.0.1_part2_specification.pdf - page 229\n",
            "finish: OCPP-2.0.1_part2_specification.pdf - page 230\n",
            "finish: OCPP-2.0.1_part2_specification.pdf - page 231\n",
            "finish: OCPP-2.0.1_part2_specification.pdf - page 232\n",
            "finish: OCPP-2.0.1_part2_specification.pdf - page 233\n",
            "finish: OCPP-2.0.1_part2_specification.pdf - page 234\n",
            "finish: OCPP-2.0.1_part2_specification.pdf - page 235\n",
            "finish: OCPP-2.0.1_part2_specification.pdf - page 236\n",
            "finish: OCPP-2.0.1_part2_specification.pdf - page 237\n",
            "finish: OCPP-2.0.1_part2_specification.pdf - page 238\n",
            "finish: OCPP-2.0.1_part2_specification.pdf - page 238\n",
            "finish: OCPP-2.0.1_part2_specification.pdf - page 239\n",
            "finish: OCPP-2.0.1_part2_specification.pdf - page 240\n",
            "finish: OCPP-2.0.1_part2_specification.pdf - page 241\n",
            "finish: OCPP-2.0.1_part2_specification.pdf - page 242\n",
            "finish: OCPP-2.0.1_part2_specification.pdf - page 243\n",
            "finish: OCPP-2.0.1_part2_specification.pdf - page 244\n",
            "finish: OCPP-2.0.1_part2_specification.pdf - page 245\n",
            "finish: OCPP-2.0.1_part2_specification.pdf - page 246\n",
            "finish: OCPP-2.0.1_part2_specification.pdf - page 247\n",
            "finish: OCPP-2.0.1_part2_specification.pdf - page 248\n",
            "finish: OCPP-2.0.1_part2_specification.pdf - page 249\n",
            "finish: OCPP-2.0.1_part2_specification.pdf - page 250\n",
            "finish: OCPP-2.0.1_part2_specification.pdf - page 251\n",
            "finish: OCPP-2.0.1_part2_specification.pdf - page 252\n",
            "finish: OCPP-2.0.1_part2_specification.pdf - page 253\n",
            "finish: OCPP-2.0.1_part2_specification.pdf - page 254\n",
            "finish: OCPP-2.0.1_part2_specification.pdf - page 255\n",
            "finish: OCPP-2.0.1_part2_specification.pdf - page 256\n",
            "finish: OCPP-2.0.1_part2_specification.pdf - page 257\n",
            "finish: OCPP-2.0.1_part2_specification.pdf - page 258\n",
            "finish: OCPP-2.0.1_part2_specification.pdf - page 259\n",
            "finish: OCPP-2.0.1_part2_specification.pdf - page 260\n",
            "finish: OCPP-2.0.1_part2_specification.pdf - page 261\n",
            "finish: OCPP-2.0.1_part2_specification.pdf - page 262\n",
            "finish: OCPP-2.0.1_part2_specification.pdf - page 263\n",
            "finish: OCPP-2.0.1_part2_specification.pdf - page 264\n",
            "finish: OCPP-2.0.1_part2_specification.pdf - page 265\n",
            "finish: OCPP-2.0.1_part2_specification.pdf - page 266\n",
            "finish: OCPP-2.0.1_part2_specification.pdf - page 267\n",
            "finish: OCPP-2.0.1_part2_specification.pdf - page 268\n",
            "finish: OCPP-2.0.1_part2_specification.pdf - page 269\n",
            "finish: OCPP-2.0.1_part2_specification.pdf - page 270\n",
            "finish: OCPP-2.0.1_part2_specification.pdf - page 271\n",
            "finish: OCPP-2.0.1_part2_specification.pdf - page 272\n",
            "finish: OCPP-2.0.1_part2_specification.pdf - page 273\n",
            "finish: OCPP-2.0.1_part2_specification.pdf - page 274\n",
            "finish: OCPP-2.0.1_part2_specification.pdf - page 275\n",
            "finish: OCPP-2.0.1_part2_specification.pdf - page 276\n",
            "finish: OCPP-2.0.1_part2_specification.pdf - page 277\n",
            "finish: OCPP-2.0.1_part2_specification.pdf - page 278\n",
            "finish: OCPP-2.0.1_part2_specification.pdf - page 279\n",
            "finish: OCPP-2.0.1_part2_specification.pdf - page 280\n",
            "finish: OCPP-2.0.1_part2_specification.pdf - page 281\n",
            "finish: OCPP-2.0.1_part2_specification.pdf - page 282\n",
            "finish: OCPP-2.0.1_part2_specification.pdf - page 283\n",
            "finish: OCPP-2.0.1_part2_specification.pdf - page 284\n",
            "finish: OCPP-2.0.1_part2_specification.pdf - page 285\n",
            "finish: OCPP-2.0.1_part2_specification.pdf - page 286\n",
            "finish: OCPP-2.0.1_part2_specification.pdf - page 287\n",
            "finish: OCPP-2.0.1_part2_specification.pdf - page 288\n",
            "finish: OCPP-2.0.1_part2_specification.pdf - page 289\n",
            "finish: OCPP-2.0.1_part2_specification.pdf - page 290\n",
            "finish: OCPP-2.0.1_part2_specification.pdf - page 291\n",
            "finish: OCPP-2.0.1_part2_specification.pdf - page 292\n",
            "finish: OCPP-2.0.1_part2_specification.pdf - page 293\n",
            "finish: OCPP-2.0.1_part2_specification.pdf - page 294\n",
            "finish: OCPP-2.0.1_part2_specification.pdf - page 295\n",
            "finish: OCPP-2.0.1_part2_specification.pdf - page 296\n",
            "finish: OCPP-2.0.1_part2_specification.pdf - page 297\n",
            "finish: OCPP-2.0.1_part2_specification.pdf - page 297\n",
            "finish: OCPP-2.0.1_part2_specification.pdf - page 298\n",
            "finish: OCPP-2.0.1_part2_specification.pdf - page 299\n",
            "finish: OCPP-2.0.1_part2_specification.pdf - page 300\n",
            "finish: OCPP-2.0.1_part2_specification.pdf - page 301\n",
            "finish: OCPP-2.0.1_part2_specification.pdf - page 302\n",
            "finish: OCPP-2.0.1_part2_specification.pdf - page 303\n",
            "finish: OCPP-2.0.1_part2_specification.pdf - page 304\n",
            "finish: OCPP-2.0.1_part2_specification.pdf - page 305\n",
            "finish: OCPP-2.0.1_part2_specification.pdf - page 306\n",
            "finish: OCPP-2.0.1_part2_specification.pdf - page 307\n",
            "finish: OCPP-2.0.1_part2_specification.pdf - page 308\n",
            "finish: OCPP-2.0.1_part2_specification.pdf - page 309\n",
            "finish: OCPP-2.0.1_part2_specification.pdf - page 310\n",
            "finish: OCPP-2.0.1_part2_specification.pdf - page 311\n",
            "finish: OCPP-2.0.1_part2_specification.pdf - page 312\n",
            "finish: OCPP-2.0.1_part2_specification.pdf - page 313\n",
            "finish: OCPP-2.0.1_part2_specification.pdf - page 314\n",
            "finish: OCPP-2.0.1_part2_specification.pdf - page 315\n",
            "finish: OCPP-2.0.1_part2_specification.pdf - page 316\n",
            "finish: OCPP-2.0.1_part2_specification.pdf - page 317\n",
            "finish: OCPP-2.0.1_part2_specification.pdf - page 318\n",
            "finish: OCPP-2.0.1_part2_specification.pdf - page 319\n",
            "finish: OCPP-2.0.1_part2_specification.pdf - page 320\n",
            "finish: OCPP-2.0.1_part2_specification.pdf - page 321\n",
            "finish: OCPP-2.0.1_part2_specification.pdf - page 322\n",
            "finish: OCPP-2.0.1_part2_specification.pdf - page 323\n",
            "finish: OCPP-2.0.1_part2_specification.pdf - page 324\n",
            "finish: OCPP-2.0.1_part2_specification.pdf - page 325\n",
            "finish: OCPP-2.0.1_part2_specification.pdf - page 326\n",
            "finish: OCPP-2.0.1_part2_specification.pdf - page 327\n",
            "finish: OCPP-2.0.1_part2_specification.pdf - page 328\n",
            "finish: OCPP-2.0.1_part2_specification.pdf - page 329\n",
            "finish: OCPP-2.0.1_part2_specification.pdf - page 330\n",
            "finish: OCPP-2.0.1_part2_specification.pdf - page 331\n",
            "finish: OCPP-2.0.1_part2_specification.pdf - page 332\n",
            "finish: OCPP-2.0.1_part2_specification.pdf - page 333\n",
            "finish: OCPP-2.0.1_part2_specification.pdf - page 334\n",
            "finish: OCPP-2.0.1_part2_specification.pdf - page 335\n",
            "finish: OCPP-2.0.1_part2_specification.pdf - page 336\n",
            "finish: OCPP-2.0.1_part2_specification.pdf - page 337\n",
            "finish: OCPP-2.0.1_part2_specification.pdf - page 338\n",
            "finish: OCPP-2.0.1_part2_specification.pdf - page 339\n",
            "finish: OCPP-2.0.1_part2_specification.pdf - page 340\n",
            "finish: OCPP-2.0.1_part2_specification.pdf - page 341\n",
            "finish: OCPP-2.0.1_part2_specification.pdf - page 342\n",
            "finish: OCPP-2.0.1_part2_specification.pdf - page 343\n",
            "finish: OCPP-2.0.1_part2_specification.pdf - page 344\n",
            "finish: OCPP-2.0.1_part2_specification.pdf - page 345\n",
            "finish: OCPP-2.0.1_part2_specification.pdf - page 346\n",
            "finish: OCPP-2.0.1_part2_specification.pdf - page 347\n",
            "finish: OCPP-2.0.1_part2_specification.pdf - page 348\n",
            "finish: OCPP-2.0.1_part2_specification.pdf - page 349\n",
            "finish: OCPP-2.0.1_part2_specification.pdf - page 350\n",
            "finish: OCPP-2.0.1_part2_specification.pdf - page 351\n",
            "finish: OCPP-2.0.1_part2_specification.pdf - page 352\n",
            "finish: OCPP-2.0.1_part2_specification.pdf - page 353\n",
            "finish: OCPP-2.0.1_part2_specification.pdf - page 354\n",
            "finish: OCPP-2.0.1_part2_specification.pdf - page 355\n",
            "finish: OCPP-2.0.1_part2_specification.pdf - page 356\n",
            "finish: OCPP-2.0.1_part2_specification.pdf - page 357\n",
            "finish: OCPP-2.0.1_part2_specification.pdf - page 358\n",
            "finish: OCPP-2.0.1_part2_specification.pdf - page 359\n",
            "finish: OCPP-2.0.1_part2_specification.pdf - page 360\n",
            "finish: OCPP-2.0.1_part2_specification.pdf - page 361\n",
            "finish: OCPP-2.0.1_part2_specification.pdf - page 362\n",
            "finish: OCPP-2.0.1_part2_specification.pdf - page 363\n",
            "finish: OCPP-2.0.1_part2_specification.pdf - page 364\n",
            "finish: OCPP-2.0.1_part2_specification.pdf - page 365\n",
            "finish: OCPP-2.0.1_part2_specification.pdf - page 366\n",
            "finish: OCPP-2.0.1_part2_specification.pdf - page 367\n",
            "finish: OCPP-2.0.1_part2_specification.pdf - page 368\n",
            "finish: OCPP-2.0.1_part2_specification.pdf - page 369\n",
            "finish: OCPP-2.0.1_part2_specification.pdf - page 370\n",
            "finish: OCPP-2.0.1_part2_specification.pdf - page 371\n",
            "finish: OCPP-2.0.1_part2_specification.pdf - page 372\n",
            "finish: OCPP-2.0.1_part2_specification.pdf - page 373\n",
            "finish: OCPP-2.0.1_part2_specification.pdf - page 374\n",
            "finish: OCPP-2.0.1_part2_specification.pdf - page 375\n",
            "finish: OCPP-2.0.1_part2_specification.pdf - page 376\n",
            "finish: OCPP-2.0.1_part2_specification.pdf - page 377\n",
            "finish: OCPP-2.0.1_part2_specification.pdf - page 378\n",
            "finish: OCPP-2.0.1_part2_specification.pdf - page 379\n",
            "finish: OCPP-2.0.1_part2_specification.pdf - page 380\n",
            "finish: OCPP-2.0.1_part2_specification.pdf - page 381\n",
            "finish: OCPP-2.0.1_part2_specification.pdf - page 382\n",
            "finish: OCPP-2.0.1_part2_specification.pdf - page 383\n",
            "finish: OCPP-2.0.1_part2_specification.pdf - page 384\n",
            "finish: OCPP-2.0.1_part2_specification.pdf - page 385\n",
            "finish: OCPP-2.0.1_part2_specification.pdf - page 386\n",
            "finish: OCPP-2.0.1_part2_specification.pdf - page 387\n",
            "finish: OCPP-2.0.1_part2_specification.pdf - page 388\n",
            "finish: OCPP-2.0.1_part2_specification.pdf - page 389\n",
            "finish: OCPP-2.0.1_part2_specification.pdf - page 390\n",
            "finish: OCPP-2.0.1_part2_specification.pdf - page 391\n",
            "finish: OCPP-2.0.1_part2_specification.pdf - page 392\n",
            "finish: OCPP-2.0.1_part2_specification.pdf - page 393\n",
            "finish: OCPP-2.0.1_part2_specification.pdf - page 394\n",
            "finish: OCPP-2.0.1_part2_specification.pdf - page 395\n",
            "finish: OCPP-2.0.1_part2_specification.pdf - page 396\n",
            "finish: OCPP-2.0.1_part2_specification.pdf - page 397\n",
            "finish: OCPP-2.0.1_part2_specification.pdf - page 398\n",
            "finish: OCPP-2.0.1_part2_specification.pdf - page 399\n",
            "finish: OCPP-2.0.1_part2_specification.pdf - page 400\n",
            "finish: OCPP-2.0.1_part2_specification.pdf - page 401\n",
            "finish: OCPP-2.0.1_part2_specification.pdf - page 402\n",
            "finish: OCPP-2.0.1_part2_specification.pdf - page 403\n",
            "finish: OCPP-2.0.1_part2_specification.pdf - page 404\n",
            "finish: OCPP-2.0.1_part2_specification.pdf - page 405\n",
            "finish: OCPP-2.0.1_part2_specification.pdf - page 406\n",
            "finish: OCPP-2.0.1_part2_specification.pdf - page 407\n",
            "finish: OCPP-2.0.1_part2_specification.pdf - page 408\n",
            "finish: OCPP-2.0.1_part2_specification.pdf - page 409\n",
            "finish: OCPP-2.0.1_part2_specification.pdf - page 410\n",
            "finish: OCPP-2.0.1_part2_specification.pdf - page 411\n",
            "finish: OCPP-2.0.1_part2_specification.pdf - page 412\n",
            "finish: OCPP-2.0.1_part2_specification.pdf - page 413\n",
            "finish: OCPP-2.0.1_part2_specification.pdf - page 414\n",
            "finish: OCPP-2.0.1_part2_specification.pdf - page 415\n",
            "finish: OCPP-2.0.1_part2_specification.pdf - page 416\n",
            "finish: OCPP-2.0.1_part2_specification.pdf - page 417\n",
            "finish: OCPP-2.0.1_part2_specification.pdf - page 418\n",
            "finish: OCPP-2.0.1_part2_specification.pdf - page 419\n",
            "finish: OCPP-2.0.1_part2_specification.pdf - page 420\n",
            "finish: OCPP-2.0.1_part2_specification.pdf - page 421\n",
            "finish: OCPP-2.0.1_part2_specification.pdf - page 422\n",
            "finish: OCPP-2.0.1_part2_specification.pdf - page 423\n",
            "finish: OCPP-2.0.1_part2_specification.pdf - page 424\n",
            "finish: OCPP-2.0.1_part2_specification.pdf - page 425\n",
            "finish: OCPP-2.0.1_part2_specification.pdf - page 426\n",
            "finish: OCPP-2.0.1_part2_specification.pdf - page 427\n",
            "finish: OCPP-2.0.1_part2_specification.pdf - page 428\n",
            "finish: OCPP-2.0.1_part2_specification.pdf - page 429\n",
            "finish: OCPP-2.0.1_part2_specification.pdf - page 430\n",
            "finish: OCPP-2.0.1_part2_specification.pdf - page 431\n",
            "finish: OCPP-2.0.1_part2_specification.pdf - page 432\n",
            "finish: OCPP-2.0.1_part2_specification.pdf - page 433\n",
            "finish: OCPP-2.0.1_part2_specification.pdf - page 434\n",
            "finish: OCPP-2.0.1_part2_specification.pdf - page 435\n",
            "finish: OCPP-2.0.1_part2_specification.pdf - page 436\n",
            "finish: OCPP-2.0.1_part2_specification.pdf - page 437\n",
            "finish: OCPP-2.0.1_part2_specification.pdf - page 438\n",
            "finish: OCPP-2.0.1_part2_specification.pdf - page 439\n",
            "finish: OCPP-2.0.1_part2_specification.pdf - page 440\n",
            "finish: OCPP-2.0.1_part2_specification.pdf - page 441\n",
            "finish: OCPP-2.0.1_part2_specification.pdf - page 442\n",
            "finish: OCPP-2.0.1_part2_specification.pdf - page 443\n",
            "finish: OCPP-2.0.1_part2_specification.pdf - page 444\n",
            "finish: OCPP-2.0.1_part2_specification.pdf - page 445\n",
            "finish: OCPP-2.0.1_part2_specification.pdf - page 446\n",
            "finish: OCPP-2.0.1_part2_specification.pdf - page 447\n",
            "finish: OCPP-2.0.1_part2_specification.pdf - page 448\n",
            "finish: OCPP-2.0.1_part2_specification.pdf - page 449\n",
            "finish: OCPP-2.0.1_part2_specification.pdf - page 450\n",
            "finish: OCPP-2.0.1_part2_specification.pdf - page 451\n",
            "finish: OCPP-2.0.1_part2_specification.pdf - page 452\n",
            "finish: OCPP-2.0.1_part2_specification.pdf - page 453\n",
            "finish: OCPP-2.0.1_part2_specification.pdf - page 454\n",
            "finish: OCPP-2.0.1_part2_specification.pdf - page 455\n",
            "finish: OCPP-2.0.1_part2_specification.pdf - page 456\n",
            "finish: OCPP-2.0.1_part2_specification.pdf - page 457\n",
            "finish: OCPP-2.0.1_part2_specification.pdf - page 458\n"
          ]
        }
      ]
    },
    {
      "cell_type": "markdown",
      "source": [
        "## RAGとして保存"
      ],
      "metadata": {
        "id": "kdIRZKKvjo7O"
      }
    },
    {
      "cell_type": "code",
      "source": [
        "vectorstore.save_local(\"./vectorstore\")"
      ],
      "metadata": {
        "id": "6990K8L0jv86"
      },
      "execution_count": 12,
      "outputs": []
    },
    {
      "cell_type": "markdown",
      "source": [
        "# RAGを用いて回答する\n",
        "\n",
        "先ほど保存されたRAGのファイルを用いて回答するチャットアプリを作成する"
      ],
      "metadata": {
        "id": "a47447XC33zs"
      }
    },
    {
      "cell_type": "markdown",
      "source": [
        "モデルを作成"
      ],
      "metadata": {
        "id": "s2is8lwf47GJ"
      }
    },
    {
      "cell_type": "code",
      "source": [
        "if MODEL_TYPE == 'AzureOpenAI':\n",
        "  from langchain_openai import AzureChatOpenAI\n",
        "  model = AzureChatOpenAI(azure_deployment=DEPLOYMENT_GPT4o, api_version=API_VERSION_GPT4o)\n",
        "\n",
        "elif MODEL_TYPE == 'Bedrock':\n",
        "  from langchain_aws import ChatBedrock\n",
        "  model = ChatBedrock(model_id=\"anthropic.claude-3-5-sonnet-20240620-v1:0\")"
      ],
      "metadata": {
        "id": "CEIMqvt24eWU"
      },
      "execution_count": 13,
      "outputs": []
    },
    {
      "cell_type": "markdown",
      "source": [
        "プロンプトを作成"
      ],
      "metadata": {
        "id": "F3Q0tUc849hh"
      }
    },
    {
      "cell_type": "code",
      "source": [
        "from langchain.prompts import PromptTemplate\n",
        "\n",
        "template = \"\"\"\n",
        "<bos><start_of_turn>system\n",
        "次の文脈を使用して、最後の質問に答えてください。\n",
        "{context}\n",
        "<end_of_turn>\n",
        "<start_of_turn>user\n",
        "{query}\n",
        "<end_of_turn><start_of_turn>model\n",
        "\"\"\"\n",
        "\n",
        "prompt = PromptTemplate(\n",
        "    template=template\n",
        ")"
      ],
      "metadata": {
        "id": "RCnn-Sid5IYR"
      },
      "execution_count": 14,
      "outputs": []
    },
    {
      "cell_type": "markdown",
      "source": [
        "chainを作成"
      ],
      "metadata": {
        "id": "TPJQTP7R5VBI"
      }
    },
    {
      "cell_type": "code",
      "source": [
        "chain = prompt | model\n"
      ],
      "metadata": {
        "id": "I83KCCsE5TwP"
      },
      "execution_count": 15,
      "outputs": []
    },
    {
      "cell_type": "markdown",
      "source": [
        "## RAGを読込\n",
        "モデル読込"
      ],
      "metadata": {
        "id": "ySUHDpwA5bXL"
      }
    },
    {
      "cell_type": "code",
      "source": [
        "if MODEL_TYPE == 'AzureOpenAI':\n",
        "  from langchain.embeddings import AzureOpenAIEmbeddings\n",
        "  embeddings = AzureOpenAIEmbeddings(\n",
        "    azure_deployment=DEPLOYMENT_EMBEDDING_LARGE,\n",
        "    chunk_size=CHUNK_SIZE\n",
        "  )\n",
        "elif MODEL_TYPE == 'Bedrock':\n",
        "  from langchain_aws import BedrockEmbeddings\n",
        "  embedding=BedrockEmbeddings(model_id=\"amazon.titan-embed-text-v1\",region_name=\"ap-northeast-1\")"
      ],
      "metadata": {
        "id": "T9cVKIna5fcZ"
      },
      "execution_count": 17,
      "outputs": []
    },
    {
      "cell_type": "markdown",
      "source": [
        "ベクトルストア読込"
      ],
      "metadata": {
        "id": "u60PmayO6DMk"
      }
    },
    {
      "cell_type": "code",
      "source": [
        "from langchain.vectorstores import FAISS\n",
        "\n",
        "vectorstore = FAISS.load_local(\"./vectorstore\",embeddings , allow_dangerous_deserialization=True)"
      ],
      "metadata": {
        "id": "dDFgegrn6KkZ"
      },
      "execution_count": 18,
      "outputs": []
    },
    {
      "cell_type": "markdown",
      "source": [
        "質問用意"
      ],
      "metadata": {
        "id": "y-5QBf3s6O9y"
      }
    },
    {
      "cell_type": "code",
      "source": [
        "query = \"充電器が停電時に考慮するべき点について教えてください。\""
      ],
      "metadata": {
        "id": "5E9dSmaK6Ty8"
      },
      "execution_count": 19,
      "outputs": []
    },
    {
      "cell_type": "markdown",
      "source": [
        "RAGから質問に関連した文章を検索"
      ],
      "metadata": {
        "id": "0H_z2whe6XDG"
      }
    },
    {
      "cell_type": "code",
      "source": [
        "docs = vectorstore.similarity_search(query=query, k=5)\n",
        "content = \"\\n\".join([f\"Content:\\n{doc.page_content}\" for doc in docs])"
      ],
      "metadata": {
        "id": "-xnvuE4J6WB5"
      },
      "execution_count": 26,
      "outputs": []
    },
    {
      "cell_type": "markdown",
      "source": [
        "ヒットした文章を表示"
      ],
      "metadata": {
        "id": "fYINIevU6049"
      }
    },
    {
      "cell_type": "code",
      "source": [
        "print(content)"
      ],
      "metadata": {
        "colab": {
          "base_uri": "https://localhost:8080/"
        },
        "id": "o4sekF8J6dW3",
        "outputId": "a9b52180-df7a-43a0-d4b7-f9c74d1ed36c"
      },
      "execution_count": 27,
      "outputs": [
        {
          "output_type": "stream",
          "name": "stdout",
          "text": [
            "Content:\n",
            "Value Description\n",
            "W Watts (power). This is the TOTAL allowed charging power. If used for AC Charging, the phase current should\n",
            "be calculated via: Current per phase = Power / (Line Voltage * Number of Phases). The \"Line Voltage\" used in\n",
            "the calculation is not the measured voltage, but the set voltage for the area (hence, 230 of 110 volt). The\n",
            "\"Number of Phases\" is the numberPhases from the ChargingSchedulePeriod. It is usually more convenient to\n",
            "use this for DC charging. Note that if numberPhases in a ChargingSchedulePeriod is absent, 3 SHALL be\n",
            "assumed.\n",
            "A Amperes (current). The amount of Ampere per phase, not the sum of all phases. It is usually more\n",
            "convenient to use this for AC charging.\n",
            "3.16. ChargingStateEnumType\n",
            "Enumeration\n",
            "The state of the charging process.\n",
            "ChargingStateEnumType is used by: transactionEvent:TransactionEventRequest.TransactionType\n",
            "Value Description\n",
            "Charging The contactor of the Connector is closed and energy is flowing to between EVSE and EV.\n",
            "EVConnected There is a connection between EV and EVSE, in case the protocol used between EV and the Charging Station\n",
            "can detect a connection, the protocol needs to detect this for the state to become active. The connection\n",
            "can either be wired or wireless.\n",
            "SuspendedEV When the EV is connected to the EVSE and the EVSE is offering energy but the EV is not taking any energy.\n",
            "SuspendedEVSE When the EV is connected to the EVSE but the EVSE is not offering energy to the EV, e.g. due to a smart\n",
            "charging restriction, local supply power constraints, or when charging has stopped because of the\n",
            "authorization status in the response to a transactionEventRequest indicating that charging is not allowed\n",
            "etc.\n",
            "Idle There is no connection between EV and EVSE.\n",
            "3.17. ClearCacheStatusEnumType\n",
            "Enumeration\n",
            "Status returned in response to ClearCacheRequest.\n",
            "ClearCacheStatusEnumType is used by: clearCache:ClearCacheResponse\n",
            "Value Description\n",
            "Accepted Command has been executed.\n",
            "Rejected Command has not been executed.\n",
            "3.18. ClearChargingProfileStatusEnumType\n",
            "Enumeration\n",
            "Status returned in response to ClearChargingProfileRequest.\n",
            "ClearChargingProfileStatusEnumType is used by: clearChargingProfile:ClearChargingProfileResponse\n",
            "Value Description\n",
            "Accepted Request has been accepted and will be executed.\n",
            "Unknown No Charging Profile(s) were found matching the request.\n",
            "3.19. ClearMessageStatusEnumType\n",
            "Enumeration\n",
            "FINAL, 2020-03-31 Messages, Datatypes & Enumerations\n",
            "OCPP 2.0.1 - © Open Charge Alliance 2020 396/449 Part 2 - Specification\n",
            "Content:\n",
            "B04 - Offline Behavior Idle Charging Station\n",
            "Table 41. B04 - Offline Behavior Idle Charging Station\n",
            "No. Type Description\n",
            "1 Name Offline Behavior Idle Charging Station\n",
            "2 ID B04\n",
            "Functional block B. Provisioning\n",
            "3 Objective(s) To attain stand-alone operation of the Charging Station.\n",
            "4 Description This use case describes that, in the event of unavailability of the communication, the Charging\n",
            "Station is designed to operate stand-alone. In that situation, the Charging Station is said to be\n",
            "Offline.\n",
            "Actors Charging Station, CSMS\n",
            "Scenario description 1. The CSMS or communication is unavailable.\n",
            "2. The Charging Station operates stand-alone.\n",
            "3. The connection is restored.\n",
            "4. If the Offline period exceeds the value of the OfflineThreshold Configuration Variable: the\n",
            "Charging Station sends a StatusNotificationRequest to the CSMS for each connector. Otherwise it\n",
            "only sends a StatusNotificationRequest for Connectors with a status change during the offline\n",
            "period. \n",
            "5. The Charging Station sends HeartbeatRequest to the CSMS.\n",
            "6. The CSMS responds with HeartbeatResponse.\n",
            "5 Prerequisite(s) The BootNotification was previously accepted and the Charging Station is able to operate stand-\n",
            "alone.\n",
            "6 Postcondition(s) When connection is restored after a period of Offline behavior, the CSMS knows the Charging\n",
            "Stations' and EVSEs' state.\n",
            "CSMS Charging Station\n",
            "loop [while powered up and no other messages]\n",
            "HeartbeatRequest()\n",
            "HeartbeatResponse(currentTime)\n",
            "Connection loss\n",
            "Connection loss can be minutes, but can also be days.\n",
            "Connection restored\n",
            "alt [Offline period exceeds offline threshold]\n",
            "loop [for all Connectors]\n",
            "StatusNotificationRequest(...)\n",
            "StatusNotificationResponse()\n",
            "[When status changed while offline]\n",
            "loop [for each Connector with status changed during offline period]\n",
            "StatusNotificationRequest(...)\n",
            "StatusNotificationResponse()\n",
            "loop [while powered up and no other messages]\n",
            "HeartbeatRequest()\n",
            "HeartbeatResponse(currentTime)\n",
            "Figure 13. Sequence Diagram: Offline Behavior Idle Charging Station\n",
            "7 Error handling The offline situation is an non preferred mode of operation that needs to be handled by the\n",
            "Charging Station by trying to re-establish the connection.\n",
            "8 Remark(s) n/a\n",
            "FINAL, 2020-03-31 B. Provisioning\n",
            "OCPP 2.0.1 - © Open Charge Alliance 2020 51/449 Part 2 - Specification\n",
            "Content:\n",
            "Charging Station CSMS\n",
            "UpdateFirmwareRequest(requestId = 123)\n",
            "UpdateFirmwareResponse()\n",
            "Verify certificate\n",
            "Waiting for retrieveDate...\n",
            "FirmwareStatusNotificationRequest(status = Downloading, requestId = 123)\n",
            "FirmwareStatusNotificationResponse()\n",
            "Download firmware\n",
            "Downloading firmware...\n",
            "FirmwareStatusNotificationRequest(status = Downloaded, requestId = 123)\n",
            "FirmwareStatusNotificationResponse()\n",
            "Verify signature\n",
            "FirmwareStatusNotificationRequest(status = SignatureVerified, requestId = 123)\n",
            "FirmwareStatusNotificationResponse()\n",
            "Waiting for transactions to finish...\n",
            "It is not fixed in what order the\n",
            "FirmwareStatusNotificationRequests\n",
            "are sent and in what order rebooting\n",
            "takes place.\n",
            "opt[reboot required before installing firmware]\n",
            "FirmwareStatusNotificationRequest(status = InstallRebooting, requestId = 123)\n",
            "FirmwareStatusNotificationResponse()\n",
            "Reboot\n",
            "Rebooting...\n",
            "FirmwareStatusNotificationRequest(status = Installing, requestId = 123)\n",
            "FirmwareStatusNotificationResponse()\n",
            "Install firmware\n",
            "Installing...\n",
            "FirmwareStatusNotificationRequest(status = Installed, requestId = 123)\n",
            "FirmwareStatusNotificationResponse()\n",
            "opt\n",
            "Rebooting...\n",
            "FINAL, 2020-03-31 L. FirmwareManagement\n",
            "OCPP 2.0.1 - © Open Charge Alliance 2020 271/449 Part 2 - Specification\n",
            "Content:\n",
            "Value Description\n",
            "s309-1P-32A 32A 1 phase IEC60309 socket\n",
            "s309-3P-16A 16A 3 phase IEC60309 socket\n",
            "s309-3P-32A 32A 3 phase IEC60309 socket\n",
            "sBS1361 UK domestic socket a.k.a. 13Amp\n",
            "sCEE-7-7 CEE 7/7 16A socket. May represent 7/4 & 7/5 a.k.a Schuko\n",
            "sType2 IEC62196-2 Type 2 socket a.k.a. Mennekes connector\n",
            "sType3 IEC62196-2 Type 2 socket a.k.a. Scame\n",
            "Other1PhMax16A Other single phase (domestic) sockets not mentioned above, rated at no more than 16A. CEE7/17, AS3112,\n",
            "NEMA 5-15, NEMA 5-20, JISC8303, TIS166, SI 32, CPCS-CCC, SEV1011, etc.\n",
            "Other1PhOver16A Other single phase sockets not mentioned above (over 16A)\n",
            "Other3Ph Other 3 phase sockets not mentioned above. NEMA14-30, NEMA14-50.\n",
            "Pan Pantograph connector\n",
            "wInductive Wireless inductively coupled connection (generic)\n",
            "wResonant Wireless resonant coupled connection (generic)\n",
            "Undetermined Yet to be determined (e.g. before plugged in)\n",
            "Unknown Unknown; not determinable\n",
            "3.23. ConnectorStatusEnumType\n",
            "Enumeration\n",
            "A status can be reported for the Connector of an EVSE of a Charging Station. States considered Operative are: Available, Reserved\n",
            "and Occupied. States considered Inoperative are: Unavailable, Faulted.\n",
            "ConnectorStatusEnumType is used by: statusNotification:StatusNotificationRequest\n",
            "Value Description\n",
            "Available When a Connector becomes available for a new User (Operative)\n",
            "Occupied When a Connector becomes occupied, so it is not available for a new EV driver. (Operative)\n",
            "Reserved When a Connector becomes reserved as a result of ReserveNow command (Operative)\n",
            "Unavailable When a Connector becomes unavailable as the result of a Change Availability command or an event upon\n",
            "which the Charging Station transitions to unavailable at its discretion. Upon receipt of ChangeAvailability\n",
            "message command, the status MAY change immediately or the change MAY be scheduled. When\n",
            "scheduled, StatusNotification SHALL be send when the availability change becomes effective (Inoperative)\n",
            "Faulted When a Connector (or the EVSE or the entire Charging Station it belongs to) has reported an error and is not\n",
            "available for energy delivery. (Inoperative).\n",
            "3.24. CostKindEnumType\n",
            "Enumeration\n",
            "CostKindEnumType is used by: Common:CostType\n",
            "Value Description\n",
            "CarbonDioxideEmiss\n",
            "ion\n",
            "Absolute value. Carbon Dioxide emissions, in grams per kWh.\n",
            "RelativePricePercen\n",
            "tage\n",
            "Relative value. Price per kWh, as percentage relative to the maximum price stated in any of all tariffs\n",
            "indicated to the EV.\n",
            "RenewableGeneratio\n",
            "nPercentage\n",
            "Relative value. Percentage of renewable generation within total generation.\n",
            "3.25. CustomerInformationStatusEnumType\n",
            "Enumeration\n",
            "FINAL, 2020-03-31 Messages, Datatypes & Enumerations\n",
            "OCPP 2.0.1 - © Open Charge Alliance 2020 398/449 Part 2 - Specification\n",
            "Content:\n",
            "CSMS Charging Station\n",
            "Power up\n",
            "opt\n",
            "Self check\n",
            "BootNotificationRequest(reason, chargingStation)\n",
            "BootNotificationResponse(status = Accepted, currentTime, interval)\n",
            "opt\n",
            "loop [for all Connectors]\n",
            "StatusNotificationRequest(connectorStatus = Unavailable)\n",
            "StatusNotificationResponse()\n",
            "Self check\n",
            "loop [for all Connectors]\n",
            "alt [Connector was set to Unavailable/Reserved/Faulted prior to (re)boot]\n",
            "StatusNotificationRequest(connectorStatus = Unavailable/Reserved/Faulted)\n",
            "StatusNotificationResponse()\n",
            "[else]\n",
            "StatusNotificationRequest(Connectortatus = Available)\n",
            "StatusNotificationResponse()\n",
            "loop [while powered up and no other messages,with frequency based on Interval from BootNotificationResponse]\n",
            "HeartbeatRequest()\n",
            "HeartbeatResponse(currentTime)\n",
            "Figure 10. Sequence Diagram: Cold Boot Charging Station\n",
            "7 Error handling 1. No initial establishment of connection of communication between the CSMS and Charging\n",
            "Station: Retry Connection with the CSMS.\n",
            "2. No response / time-out from the CSMS: The Charging Station resends BootNotificationRequest\n",
            "after a waiting interval. The Charging Station chooses this interval on its own (since it dit not get a\n",
            "BootNotificationResponse containing this interval), in a way that avoids flooding the CSMS with\n",
            "requests.\n",
            "8 Remark(s) Multiple options for a self check are possible: some Charging Stations boot and send status\n",
            "notifications with Unavailable, then perform a check of all the hardware and send new\n",
            "StatusNotifications with status Available when the Charging Station is up and running. However,\n",
            "there is no required order for a self check and sending a BootNotificationRequest. A Charging\n",
            "Stations can also do the self check before sending a BootNotificationRequest and determine the\n",
            "status before a (mobile) network connection is established and a BootNotificationRequest is\n",
            "sent.\n",
            "When something is wrong with the Charging Station or EVSE, the status SHALL be set to Faulted.\n",
            "Reserved and Unavailable states persist after a reboot.\n",
            "B01 - Cold Boot Charging Station - Requirements\n",
            "Table 36. B01 - Requirements\n",
            "ID Precondition Requirement definition Note\n",
            "B01.FR.01 After start-up. The Charging Station SHALL send\n",
            "BootNotificationRequest to the CSMS with\n",
            "information about its configuration.\n",
            "Information: e.g. version,\n",
            "vendor, etc.\n",
            "B01.FR.02 B01.FR.01\n",
            "The CSMS has received\n",
            "BootNotificationRequest from the\n",
            "Charging Station.\n",
            "The CSMS SHALL respond to indicate whether it\n",
            "will accept the Charging Station.\n",
            "FINAL, 2020-03-31 B. Provisioning\n",
            "OCPP 2.0.1 - © Open Charge Alliance 2020 44/449 Part 2 - Specification\n"
          ]
        }
      ]
    },
    {
      "cell_type": "markdown",
      "source": [
        "RAGから検索した文章を考慮して回答"
      ],
      "metadata": {
        "id": "RL9cAcbu7RuZ"
      }
    },
    {
      "cell_type": "code",
      "source": [
        "answer = chain.invoke({'query':query, 'context':content})\n",
        "print(answer.content)"
      ],
      "metadata": {
        "colab": {
          "base_uri": "https://localhost:8080/"
        },
        "id": "iCK4tE2X7Zdw",
        "outputId": "14758a26-180f-4ade-b5ba-9f6879e57880"
      },
      "execution_count": 28,
      "outputs": [
        {
          "output_type": "stream",
          "name": "stdout",
          "text": [
            "充電器が停電時に考慮すべき主なポイントは以下の通りです:\n",
            "\n",
            "1. スタンドアロン操作:\n",
            "通信が利用できない場合でも、充電器は単独で動作できるように設計されている必要があります。\n",
            "\n",
            "2. オフライン状態の管理:\n",
            "充電器はオフライン状態を適切に管理し、接続が回復したときに正しく対応する必要があります。\n",
            "\n",
            "3. ステータス通知:\n",
            "接続が回復した後、オフライン期間が設定された閾値を超えた場合は、すべてのコネクタのステータスを通知する必要があります。閾値内の場合は、状態が変化したコネクタのみ通知します。\n",
            "\n",
            "4. 再接続の試行:\n",
            "充電器は定期的に中央システムとの接続再確立を試みる必要があります。\n",
            "\n",
            "5. 状態の維持:\n",
            "予約済みや利用不可などの状態は、再起動後も維持される必要があります。\n",
            "\n",
            "6. セルフチェック:\n",
            "電源復帰後、必要に応じてハードウェアのセルフチェックを実施します。\n",
            "\n",
            "7. ブート通知:\n",
            "電源復帰時には適切なタイミングでBootNotificationRequestを送信し、システムに再接続する必要があります。\n",
            "\n",
            "これらの点に注意することで、停電時や通信障害時でも充電器が適切に動作し、復旧後に正しく中央システムと同期できるようになります。\n"
          ]
        }
      ]
    }
  ],
  "metadata": {
    "kernelspec": {
      "display_name": ".venv",
      "language": "python",
      "name": "python3"
    },
    "language_info": {
      "codemirror_mode": {
        "name": "ipython",
        "version": 3
      },
      "file_extension": ".py",
      "mimetype": "text/x-python",
      "name": "python",
      "nbconvert_exporter": "python",
      "pygments_lexer": "ipython3",
      "version": "3.12.7"
    },
    "colab": {
      "provenance": [],
      "include_colab_link": true
    }
  },
  "nbformat": 4,
  "nbformat_minor": 0
}