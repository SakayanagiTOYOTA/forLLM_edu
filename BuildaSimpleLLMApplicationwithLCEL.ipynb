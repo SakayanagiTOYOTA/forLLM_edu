{
  "cells": [
    {
      "cell_type": "markdown",
      "metadata": {
        "id": "view-in-github",
        "colab_type": "text"
      },
      "source": [
        "<a href=\"https://colab.research.google.com/github/SakayanagiTOYOTA/forLLM_edu/blob/main/BuildaSimpleLLMApplicationwithLCEL.ipynb\" target=\"_parent\"><img src=\"https://colab.research.google.com/assets/colab-badge.svg\" alt=\"Open In Colab\"/></a>"
      ]
    },
    {
      "cell_type": "markdown",
      "metadata": {
        "id": "-kIqNYRzP_Hh"
      },
      "source": [
        "引用元：\n",
        "* [LangChain Tutorials](https://python.langchain.com/v0.2/docs/tutorials/llm_chain/)\n",
        "* [VSCodeでJupyterを使う](https://python-work.com/vscode-ext-jupyter/)"
      ]
    },
    {
      "cell_type": "markdown",
      "metadata": {
        "id": "7vtDtDG9P_Hl"
      },
      "source": [
        "環境変数設定："
      ]
    },
    {
      "cell_type": "code",
      "execution_count": null,
      "metadata": {
        "id": "JQN4SiJuP_Hm"
      },
      "outputs": [],
      "source": [
        "# AzureOpenAIの場合\n",
        "import os\n",
        "os.environ[\"OPENAI_API_VERSION\"] = \"2024-02-15-preview\"\n",
        "os.environ[\"AZURE_OPENAI_API_KEY\"] = \"xxxxxxxx\"\n",
        "os.environ[\"AZURE_OPENAI_ENDPOINT\"] = 'https://aoai-aoai04-japaneast.openai.azure.com/'\n",
        "AZURE_DEPLOYMENT='gpt-4o-2024-05-13'"
      ]
    },
    {
      "cell_type": "code",
      "execution_count": null,
      "metadata": {
        "id": "v5bqTx1zP_Hn"
      },
      "outputs": [],
      "source": [
        "# AWS Bedrockの場合\n",
        "import os\n",
        "os.environ['AWS_ACCESS_KEY_ID'] = 'xxxxx'\n",
        "os.environ['AWS_SECRET_ACCESS_KEY'] = 'xxxxxx'\n",
        "os.environ['AWS_SESSION_TOKEN'] = 'xxxxxx'\n",
        "os.environ['AWS_DEFAULT_REGION'] = 'ap-northeast-1'"
      ]
    },
    {
      "cell_type": "markdown",
      "metadata": {
        "id": "6LLNeTvuP_Ho"
      },
      "source": [
        "# Build Simple LLM Application with LCEL\n",
        "In this quickstart we'll show you how to build a simple LLM application with LangChain. This application will translate text from English into another language. This is a relatively simple LLM application - it's just a single LLM call plus some prompting. Still, this is a great way to get started with LangChain - a lot of features can be built with just some prompting and an LLM call!\n",
        "\n",
        "After reading this tutorial, you'll have a high level overview of:\n",
        "\n",
        "* Using [language models](https://python.langchain.com/v0.2/docs/concepts/#chat-models)\n",
        "\n",
        "* Using [PromptTemplates](https://python.langchain.com/v0.2/docs/concepts/#prompt-templates) and [OutputParsers](https://python.langchain.com/v0.2/docs/concepts/#output-parsers)\n",
        "\n",
        "* Using [LangChain Expression Language (LCEL)](https://python.langchain.com/v0.2/docs/concepts/#langchain-expression-language-lcel) to chain components together\n",
        "\n",
        "* Deploying your application with [LangServe](https://python.langchain.com/v0.2/docs/concepts/#langserve)\n",
        "\n",
        "Let's dive in!"
      ]
    },
    {
      "cell_type": "markdown",
      "metadata": {
        "id": "s6AYfb4lP_Hp"
      },
      "source": [
        "# Using Language Models\n",
        "First up, let's learn how to use a language model by itself. LangChain supports many different language models that you can use interchangeably - select the one you want to use below!"
      ]
    },
    {
      "cell_type": "code",
      "execution_count": null,
      "metadata": {
        "id": "yEDRmfKWP_Hp"
      },
      "outputs": [],
      "source": [
        "#AzureOpenAIの場合\n",
        "from langchain_openai import AzureChatOpenAI\n",
        "\n",
        "model = AzureChatOpenAI(azure_deployment=AZURE_DEPLOYMENT)"
      ]
    },
    {
      "cell_type": "code",
      "execution_count": null,
      "metadata": {
        "id": "JA_NKvLYP_Hq"
      },
      "outputs": [],
      "source": [
        "#AWS Bedrockの場合\n",
        "from langchain_aws.chat_models import ChatBedrock\n",
        "model = ChatBedrock(model_id='anthropic.claude-3-haiku-20240307-v1:0')"
      ]
    },
    {
      "cell_type": "markdown",
      "metadata": {
        "id": "_ZnazRAIP_Hq"
      },
      "source": [
        "Let's first use the model directly. ChatModels are instances of LangChain \"Runnables\", which means they expose a standard interface for interacting with them. To just simply call the model, we can pass in a list of messages to the .invoke method."
      ]
    },
    {
      "cell_type": "code",
      "execution_count": null,
      "metadata": {
        "id": "3P0FmK5hP_Hr"
      },
      "outputs": [],
      "source": [
        "from langchain_core.messages import HumanMessage, SystemMessage\n",
        "\n",
        "messages = [\n",
        "    SystemMessage(content=\"Translate the following from English into Italian\"),\n",
        "    HumanMessage(content=\"hi!\"),\n",
        "]\n",
        "\n",
        "model.invoke(messages)"
      ]
    },
    {
      "cell_type": "markdown",
      "metadata": {
        "id": "tuRI2xb8P_Hs"
      },
      "source": [
        "API Reference:[HumanMessage](https://python.langchain.com/v0.2/api_reference/core/messages/langchain_core.messages.human.HumanMessage.html) | [SystemMessage](https://python.langchain.com/v0.2/api_reference/core/messages/langchain_core.messages.system.SystemMessage.html)"
      ]
    },
    {
      "cell_type": "markdown",
      "metadata": {
        "id": "nAQ2LkZLP_Hs"
      },
      "source": [
        "# OutputParsers\n",
        "\n",
        "Notice that the response from the model is an AIMessage. This contains a string response along with other metadata about the response. Oftentimes we may just want to work with the string response. We can parse out just this response by using a simple output parser.\n",
        "\n",
        "We first import the simple output parser."
      ]
    },
    {
      "cell_type": "code",
      "execution_count": null,
      "metadata": {
        "id": "QS5_UDG2P_Ht"
      },
      "outputs": [],
      "source": [
        "from langchain_core.output_parsers import StrOutputParser\n",
        "\n",
        "parser = StrOutputParser()"
      ]
    },
    {
      "cell_type": "markdown",
      "metadata": {
        "id": "ecMrUAXuP_Ht"
      },
      "source": [
        "API Reference:[StrOutputParser](https://python.langchain.com/v0.2/api_reference/core/output_parsers/langchain_core.output_parsers.string.StrOutputParser.html)"
      ]
    },
    {
      "cell_type": "markdown",
      "metadata": {
        "id": "tU8kbzZkP_Ht"
      },
      "source": [
        "One way to use it is to use it by itself. For example, we could save the result of the language model call and then pass it to the parser."
      ]
    },
    {
      "cell_type": "code",
      "execution_count": null,
      "metadata": {
        "id": "3DANHbDXP_Ht"
      },
      "outputs": [],
      "source": [
        "result = model.invoke(messages)\n",
        "parser.invoke(result)"
      ]
    },
    {
      "cell_type": "markdown",
      "metadata": {
        "id": "OC2zQ_djP_Hu"
      },
      "source": [
        "More commonly, we can \"chain\" the model with this output parser. This means this output parser will get called every time in this chain. This chain takes on the input type of the language model (string or list of message) and returns the output type of the output parser (string).\n",
        "\n",
        "We can easily create the chain using the | operator. The | operator is used in LangChain to combine two elements together."
      ]
    },
    {
      "cell_type": "code",
      "execution_count": null,
      "metadata": {
        "id": "N_N91XwXP_Hu"
      },
      "outputs": [],
      "source": [
        "chain = model | parser\n",
        "\n",
        "chain.invoke(messages)"
      ]
    },
    {
      "cell_type": "markdown",
      "metadata": {
        "id": "JmZBw3EXP_Hu"
      },
      "source": [
        "# Prompt Templates\n",
        "\n",
        "Right now we are passing a list of messages directly into the language model. Where does this list of messages come from? Usually, it is constructed from a combination of user input and application logic. This application logic usually takes the raw user input and transforms it into a list of messages ready to pass to the language model. Common transformations include adding a system message or formatting a template with the user input.\n",
        "\n",
        "PromptTemplates are a concept in LangChain designed to assist with this transformation. They take in raw user input and return data (a prompt) that is ready to pass into a language model.\n",
        "\n",
        "Let's create a PromptTemplate here. It will take in two user variables:\n",
        "\n",
        "* language: The language to translate text into\n",
        "* text: The text to translate"
      ]
    },
    {
      "cell_type": "code",
      "execution_count": null,
      "metadata": {
        "id": "VbZilbhUP_Hv"
      },
      "outputs": [],
      "source": [
        "from langchain_core.prompts import ChatPromptTemplate"
      ]
    },
    {
      "cell_type": "markdown",
      "metadata": {
        "id": "QvHNskF8P_Hv"
      },
      "source": [
        "API Reference:[ChatPromptTemplate](https://python.langchain.com/v0.2/api_reference/core/prompts/langchain_core.prompts.chat.ChatPromptTemplate.html)"
      ]
    },
    {
      "cell_type": "markdown",
      "metadata": {
        "id": "t5giPwa3P_Hv"
      },
      "source": [
        "First, let's create a string that we will format to be the system message:"
      ]
    },
    {
      "cell_type": "code",
      "execution_count": null,
      "metadata": {
        "id": "EJ9JqLxTP_Hv"
      },
      "outputs": [],
      "source": [
        "system_template = \"Translate the following into {language}:\""
      ]
    },
    {
      "cell_type": "markdown",
      "metadata": {
        "id": "VGwLcpgvP_Hw"
      },
      "source": [
        "Next, we can create the PromptTemplate. This will be a combination of the system_template as well as a simpler template for where to put the text to be translated"
      ]
    },
    {
      "cell_type": "code",
      "execution_count": null,
      "metadata": {
        "id": "4pTH9KkEP_Hw"
      },
      "outputs": [],
      "source": [
        "prompt_template = ChatPromptTemplate.from_messages(\n",
        "    [(\"system\", system_template), (\"user\", \"{text}\")]\n",
        ")"
      ]
    },
    {
      "cell_type": "markdown",
      "metadata": {
        "id": "ODwbYt1mP_Hw"
      },
      "source": [
        "The input to this prompt template is a dictionary. We can play around with this prompt template by itself to see what it does by itself"
      ]
    },
    {
      "cell_type": "code",
      "execution_count": null,
      "metadata": {
        "id": "N1z5GmI6P_Hw"
      },
      "outputs": [],
      "source": [
        "result = prompt_template.invoke({\"language\": \"italian\", \"text\": \"hi\"})\n",
        "\n",
        "result"
      ]
    },
    {
      "cell_type": "markdown",
      "metadata": {
        "id": "Q_7UdTC3P_Hx"
      },
      "source": [
        "We can see that it returns a ChatPromptValue that consists of two messages. If we want to access the messages directly we do:"
      ]
    },
    {
      "cell_type": "code",
      "execution_count": null,
      "metadata": {
        "id": "aL78IlgeP_Hx"
      },
      "outputs": [],
      "source": [
        "result.to_messages()"
      ]
    },
    {
      "cell_type": "markdown",
      "metadata": {
        "id": "BeZVrgdLP_Hx"
      },
      "source": [
        "# Chaining together components with LCEL\n",
        "\n",
        "We can now combine this with the model and the output parser from above using the pipe (|) operator:"
      ]
    },
    {
      "cell_type": "code",
      "execution_count": null,
      "metadata": {
        "id": "6U3Y-ArCP_Hx"
      },
      "outputs": [],
      "source": [
        "chain = prompt_template | model | parser\n",
        "\n",
        "chain.invoke({\"language\": \"italian\", \"text\": \"hi\"})"
      ]
    },
    {
      "cell_type": "markdown",
      "metadata": {
        "id": "JAmB21kHP_Hy"
      },
      "source": [
        "This is a simple example of using [LangChain Expression Language (LCEL)](https://python.langchain.com/v0.2/docs/concepts/#langchain-expression-language-lcel) to chain together LangChain modules. There are several benefits to this approach, including optimized streaming and tracing support."
      ]
    },
    {
      "cell_type": "markdown",
      "metadata": {
        "id": "LI33F6HcP_Hy"
      },
      "source": [
        "# Serving with LangServe\n",
        "Now that we've built an application, we need to serve it. That's where LangServe comes in. LangServe helps developers deploy LangChain chains as a REST API. You do not need to use LangServe to use LangChain, but in this guide we'll show how you can deploy your app with LangServe.\n",
        "\n",
        "## Server\n",
        "To create a server for our application we'll make a serve.py file. This will contain our logic for serving our application. It consists of three things:\n",
        "\n",
        "1. The definition of our chain that we just built above\n",
        "2. Our FastAPI app\n",
        "3. A definition of a route from which to serve the chain, which is done with langserve.add_routes"
      ]
    },
    {
      "cell_type": "markdown",
      "metadata": {
        "id": "PL2oJUaiP_Hy"
      },
      "source": [
        "serve.py:\n",
        "```python\n",
        "#!/usr/bin/env python\n",
        "from fastapi import FastAPI\n",
        "from langchain_core.prompts import ChatPromptTemplate\n",
        "from langchain_core.output_parsers import StrOutputParser\n",
        "from langchain_openai import AzureChatOpenAI\n",
        "from langserve import add_routes\n",
        "\n",
        "# 1. Create prompt template\n",
        "system_template = \"Translate the following into {language}:\"\n",
        "prompt_template = ChatPromptTemplate.from_messages([\n",
        "    ('system', system_template),\n",
        "    ('user', '{text}')\n",
        "])\n",
        "\n",
        "# 2. Create model\n",
        "model = AzureChatOpenAI(azure_deployment=AZURE_DEPLOYMENT)\n",
        "\n",
        "# 3. Create parser\n",
        "parser = StrOutputParser()\n",
        "\n",
        "# 4. Create chain\n",
        "chain = prompt_template | model | parser\n",
        "\n",
        "\n",
        "# 4. App definition\n",
        "app = FastAPI(\n",
        "  title=\"LangChain Server\",\n",
        "  version=\"1.0\",\n",
        "  description=\"A simple API server using LangChain's Runnable interfaces\",\n",
        ")\n",
        "\n",
        "# 5. Adding chain route\n",
        "add_routes(\n",
        "    app,\n",
        "    chain,\n",
        "    path=\"/chain\",\n",
        ")\n",
        "\n",
        "if __name__ == \"__main__\":\n",
        "    import uvicorn\n",
        "\n",
        "    uvicorn.run(app, host=\"localhost\", port=8000)\n",
        "```"
      ]
    },
    {
      "cell_type": "markdown",
      "metadata": {
        "id": "dYend2ztP_Hy"
      },
      "source": [
        "API Reference:[ChatPromptTemplate](https://python.langchain.com/v0.2/api_reference/core/prompts/langchain_core.prompts.chat.ChatPromptTemplate.html) | [StrOutputParser](https://python.langchain.com/v0.2/api_reference/core/output_parsers/langchain_core.output_parsers.string.StrOutputParser.html) | [ChatOpenAI](https://python.langchain.com/v0.2/api_reference/openai/chat_models/langchain_openai.chat_models.base.ChatOpenAI.html)"
      ]
    },
    {
      "cell_type": "markdown",
      "metadata": {
        "id": "DtL9CMjQP_Hz"
      },
      "source": [
        "And that's it! If we execute this file:\n",
        "\n",
        "```\n",
        "python serve.py\n",
        "```\n",
        "we should see our chain being served at http://localhost:8000."
      ]
    },
    {
      "cell_type": "markdown",
      "metadata": {
        "id": "go7hK3zXP_Hz"
      },
      "source": [
        "## Playground\n",
        "\n",
        "Every LangServe service comes with a simple [built-in](https://github.com/langchain-ai/langserve/blob/main/README.md#playground) UI for configuring and invoking the application with streaming output and visibility into intermediate steps. Head to [http://localhost:8000/chain/playground/](http://localhost:8000/chain/playground/) to try it out! Pass in the same inputs as before - {\"language\": \"italian\", \"text\": \"hi\"} - and it should respond same as before."
      ]
    },
    {
      "cell_type": "markdown",
      "metadata": {
        "id": "eLQrSqouP_Hz"
      },
      "source": [
        "## Client\n",
        "\n",
        "Now let's set up a client for programmatically interacting with our service. We can easily do this with the [langserve.RemoteRunnable](https://python.langchain.com/v0.2/docs/langserve/#client). Using this, we can interact with the served chain as if it were running client-side."
      ]
    },
    {
      "cell_type": "code",
      "execution_count": null,
      "metadata": {
        "id": "H0xw0nkzP_Hz"
      },
      "outputs": [],
      "source": [
        "from langserve import RemoteRunnable\n",
        "\n",
        "remote_chain = RemoteRunnable(\"http://localhost:8000/chain/\")\n",
        "remote_chain.invoke({\"language\": \"italian\", \"text\": \"hi\"})"
      ]
    },
    {
      "cell_type": "markdown",
      "metadata": {
        "id": "szMtNBISP_H0"
      },
      "source": [
        "To learn more about the many other features of LangServe [head here](https://python.langchain.com/v0.2/docs/langserve/)."
      ]
    },
    {
      "cell_type": "markdown",
      "metadata": {
        "id": "0s0EnZGVP_H0"
      },
      "source": [
        "# Conclusion"
      ]
    },
    {
      "cell_type": "markdown",
      "metadata": {
        "id": "zvFTdVDzP_H0"
      },
      "source": [
        "That's it! In this tutorial you've learned how to create your first simple LLM application. You've learned how to work with language models, how to parse their outputs, how to create a prompt template, chaining them with LCEL, how to get great observability into chains you create with LangSmith, and how to deploy them with LangServe.\n",
        "\n",
        "This just scratches the surface of what you will want to learn to become a proficient AI Engineer. Luckily - we've got a lot of other resources!\n",
        "\n",
        "For further reading on the core concepts of LangChain, we've got detailed [Conceptual Guides](https://python.langchain.com/v0.2/docs/concepts/).\n",
        "\n",
        "If you have more specific questions on these concepts, check out the following sections of the how-to guides:\n",
        "\n",
        "* [LangChain Expression Language (LCEL)](https://python.langchain.com/v0.2/docs/how_to/#langchain-expression-language-lcel)\n",
        "* [Prompt templates](https://python.langchain.com/v0.2/docs/how_to/#prompt-templates)\n",
        "* [Chat models](https://python.langchain.com/v0.2/docs/how_to/#chat-models)\n",
        "* [Output parsers](https://python.langchain.com/v0.2/docs/how_to/#output-parsers)\n",
        "* [LangServe](https://python.langchain.com/v0.2/docs/langserve/)"
      ]
    }
  ],
  "metadata": {
    "kernelspec": {
      "display_name": ".venv",
      "language": "python",
      "name": "python3"
    },
    "language_info": {
      "codemirror_mode": {
        "name": "ipython",
        "version": 3
      },
      "file_extension": ".py",
      "mimetype": "text/x-python",
      "name": "python",
      "nbconvert_exporter": "python",
      "pygments_lexer": "ipython3",
      "version": "3.12.7"
    },
    "colab": {
      "provenance": [],
      "include_colab_link": true
    }
  },
  "nbformat": 4,
  "nbformat_minor": 0
}