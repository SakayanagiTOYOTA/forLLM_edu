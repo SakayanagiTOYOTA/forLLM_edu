{
  "cells": [
    {
      "cell_type": "markdown",
      "metadata": {
        "id": "view-in-github",
        "colab_type": "text"
      },
      "source": [
        "<a href=\"https://colab.research.google.com/github/SakayanagiTOYOTA/forLLM_edu/blob/main/BuildaChatbot.ipynb\" target=\"_parent\"><img src=\"https://colab.research.google.com/assets/colab-badge.svg\" alt=\"Open In Colab\"/></a>"
      ]
    },
    {
      "cell_type": "markdown",
      "metadata": {
        "id": "lcXkF-R31mn0"
      },
      "source": [
        "引用元 https://python.langchain.com/docs/tutorials/chatbot/"
      ]
    },
    {
      "cell_type": "markdown",
      "metadata": {
        "id": "6qrIzj5-1mn4"
      },
      "source": [
        "環境変数設定："
      ]
    },
    {
      "cell_type": "code",
      "execution_count": null,
      "metadata": {
        "id": "i8hYtmmo1mn5"
      },
      "outputs": [],
      "source": [
        "# AzureOpenAIの場合\n",
        "import os\n",
        "os.environ[\"OPENAI_API_VERSION\"] = \"2024-02-15-preview\"\n",
        "os.environ[\"AZURE_OPENAI_API_KEY\"] = \"xxxxxxxxxx\"\n",
        "os.environ[\"AZURE_OPENAI_ENDPOINT\"] = 'https://aoai-aoai04-japaneast.openai.azure.com/'\n",
        "AZURE_DEPLOYMENT='gpt-4o-2024-05-13'"
      ]
    },
    {
      "cell_type": "code",
      "execution_count": null,
      "metadata": {
        "id": "KB0X7VCe1vdv"
      },
      "outputs": [],
      "source": [
        "# AWS Bedrockの場合\n",
        "import os\n",
        "os.environ['AWS_ACCESS_KEY_ID'] = 'xxxxxxx'\n",
        "os.environ['AWS_SECRET_ACCESS_KEY'] = 'xxxxxxxx'\n",
        "os.environ['AWS_SESSION_TOKEN'] = 'xxxxxxxx'\n",
        "os.environ['AWS_DEFAULT_REGION'] = 'ap-northeast-1'\n"
      ]
    },
    {
      "cell_type": "markdown",
      "metadata": {
        "id": "wBbat5g43SfS"
      },
      "source": [
        "Google Colaboの場合にライブラリインストール："
      ]
    },
    {
      "cell_type": "code",
      "execution_count": null,
      "metadata": {
        "id": "khvU3Ci2J2wJ"
      },
      "outputs": [],
      "source": [
        "!pip install langchain-core langchain-aws 'langgraph>0.2.27'"
      ]
    },
    {
      "cell_type": "markdown",
      "metadata": {
        "id": "404U21ge1mn8"
      },
      "source": [
        "# Overview\n",
        "We'll go over an example of how to design and implement an LLM-powered chatbot. This chatbot will be able to have a conversation and remember previous interactions.\n",
        "\n",
        "Note that this chatbot that we build will only use the language model to have a conversation. There are several other related concepts that you may be looking for:\n",
        "\n",
        "* Conversational RAG: Enable a chatbot experience over an external source of data\n",
        "* Agents: Build a chatbot that can take actions\n",
        "This tutorial will cover the basics which will be helpful for those two more advanced topics, but feel free to skip directly to there should you choose."
      ]
    },
    {
      "cell_type": "markdown",
      "metadata": {
        "id": "8n4F8qAY1mn9"
      },
      "source": [
        "# Quickstart\n",
        "First up, let's learn how to use a language model by itself. LangChain supports many different language models that you can use interchangeably - select the one you want to use below!"
      ]
    },
    {
      "cell_type": "markdown",
      "metadata": {
        "id": "0gG4_py_Uu1k"
      },
      "source": []
    },
    {
      "cell_type": "code",
      "execution_count": null,
      "metadata": {
        "id": "N4EB99xu1mn-"
      },
      "outputs": [],
      "source": [
        "#AzureOpenAIの場合\n",
        "from langchain_openai import AzureChatOpenAI\n",
        "model = AzureChatOpenAI(azure_deployment=AZURE_DEPLOYMENT)"
      ]
    },
    {
      "cell_type": "code",
      "execution_count": null,
      "metadata": {
        "id": "RUvuliN02CDe"
      },
      "outputs": [],
      "source": [
        "#AWS Bedrockの場合\n",
        "from langchain_aws import ChatBedrock\n",
        "model = ChatBedrock(model_id=\"anthropic.claude-3-5-sonnet-20240620-v1:0\")"
      ]
    },
    {
      "cell_type": "markdown",
      "metadata": {
        "id": "K69csmwc1mn_"
      },
      "source": [
        "Let's first use the model directly. ChatModels are instances of LangChain \"Runnables\", which means they expose a standard interface for interacting with them. To just simply call the model, we can pass in a list of messages to the .invoke method."
      ]
    },
    {
      "cell_type": "code",
      "execution_count": null,
      "metadata": {
        "id": "NWKqubUy1mn_"
      },
      "outputs": [],
      "source": [
        "from langchain_core.messages import HumanMessage\n",
        "\n",
        "model.invoke([HumanMessage(content=\"Hi! I'm Bob\")])"
      ]
    },
    {
      "cell_type": "markdown",
      "metadata": {
        "id": "ortmuj011moC"
      },
      "source": [
        "The model on its own does not have any concept of state. For example, if you ask a followup question:"
      ]
    },
    {
      "cell_type": "code",
      "execution_count": null,
      "metadata": {
        "id": "PWb4AWDO1moC"
      },
      "outputs": [],
      "source": [
        "model.invoke([HumanMessage(content=\"What's my name?\")])"
      ]
    },
    {
      "cell_type": "markdown",
      "metadata": {
        "id": "IYRy7S1E1moD"
      },
      "source": [
        "Let's take a look at the example LangSmith trace\n",
        "\n",
        "We can see that it doesn't take the previous conversation turn into context, and cannot answer the question. This makes for a terrible chatbot experience!\n",
        "\n",
        "To get around this, we need to pass the entire conversation history into the model. Let's see what happens when we do that:"
      ]
    },
    {
      "cell_type": "code",
      "execution_count": null,
      "metadata": {
        "id": "sftBvXdN1moE"
      },
      "outputs": [],
      "source": [
        "from langchain_core.messages import AIMessage\n",
        "\n",
        "model.invoke(\n",
        "    [\n",
        "        HumanMessage(content=\"Hi! I'm Bob\"),\n",
        "        AIMessage(content=\"Hello Bob! How can I assist you today?\"),\n",
        "        HumanMessage(content=\"What's my name?\"),\n",
        "    ]\n",
        ")"
      ]
    },
    {
      "cell_type": "markdown",
      "metadata": {
        "id": "Vama7lkW1moF"
      },
      "source": [
        "And now we can see that we get a good response!\n",
        "\n",
        "This is the basic idea underpinning a chatbot's ability to interact conversationally. So how do we best implement this?"
      ]
    },
    {
      "cell_type": "markdown",
      "metadata": {
        "id": "ePfjZZxN1moG"
      },
      "source": [
        "# Message persistence\n",
        "LangGraph implements a built-in persistence layer, making it ideal for chat applications that support multiple conversational turns.\n",
        "\n",
        "Wrapping our chat model in a minimal LangGraph application allows us to automatically persist the message history, simplifying the development of multi-turn applications.\n",
        "\n",
        "LangGraph comes with a simple in-memory checkpointer, which we use below. See its documentation for more detail, including how to use different persistence backends (e.g., SQLite or Postgres)."
      ]
    },
    {
      "cell_type": "code",
      "execution_count": null,
      "metadata": {
        "id": "QUXxePnf1moG"
      },
      "outputs": [],
      "source": [
        "from langgraph.checkpoint.memory import MemorySaver\n",
        "from langgraph.graph import START, MessagesState, StateGraph\n",
        "\n",
        "# Define a new graph\n",
        "workflow = StateGraph(state_schema=MessagesState)\n",
        "\n",
        "\n",
        "# Define the function that calls the model\n",
        "def call_model(state: MessagesState):\n",
        "    response = model.invoke(state[\"messages\"])\n",
        "    return {\"messages\": response}\n",
        "\n",
        "\n",
        "# Define the (single) node in the graph\n",
        "workflow.add_edge(START, \"model\")\n",
        "workflow.add_node(\"model\", call_model)\n",
        "\n",
        "# Add memory\n",
        "memory = MemorySaver()\n",
        "app = workflow.compile(checkpointer=memory)"
      ]
    },
    {
      "cell_type": "markdown",
      "metadata": {
        "id": "bd2ohERN1moH"
      },
      "source": [
        "We now need to create a config that we pass into the runnable every time. This config contains information that is not part of the input directly, but is still useful. In this case, we want to include a thread_id. This should look like:"
      ]
    },
    {
      "cell_type": "code",
      "execution_count": null,
      "metadata": {
        "id": "uf7GZSMg1moH"
      },
      "outputs": [],
      "source": [
        "config = {\"configurable\": {\"thread_id\": \"abc123\"}}"
      ]
    },
    {
      "cell_type": "markdown",
      "metadata": {
        "id": "j9XMMP551moI"
      },
      "source": [
        "This enables us to support multiple conversation threads with a single application, a common requirement when your application has multiple users.\n",
        "\n",
        "We can then invoke the application:"
      ]
    },
    {
      "cell_type": "code",
      "execution_count": null,
      "metadata": {
        "id": "djsQVyD-1moI"
      },
      "outputs": [],
      "source": [
        "query = \"Hi! I'm Bob.\"\n",
        "\n",
        "input_messages = [HumanMessage(query)]\n",
        "output = app.invoke({\"messages\": input_messages}, config)\n",
        "output[\"messages\"][-1].pretty_print()  # output contains all messages in state"
      ]
    },
    {
      "cell_type": "code",
      "execution_count": null,
      "metadata": {
        "id": "frfqDWuH1moJ"
      },
      "outputs": [],
      "source": [
        "query = \"What's my name?\"\n",
        "\n",
        "input_messages = [HumanMessage(query)]\n",
        "output = app.invoke({\"messages\": input_messages}, config)\n",
        "output[\"messages\"][-1].pretty_print()"
      ]
    },
    {
      "cell_type": "markdown",
      "metadata": {
        "id": "I4IvqJ6W1moK"
      },
      "source": [
        "Great! Our chatbot now remembers things about us. If we change the config to reference a different thread_id, we can see that it starts the conversation fresh."
      ]
    },
    {
      "cell_type": "code",
      "execution_count": null,
      "metadata": {
        "id": "1BpjQ4q71moK"
      },
      "outputs": [],
      "source": [
        "config = {\"configurable\": {\"thread_id\": \"abc234\"}}\n",
        "\n",
        "input_messages = [HumanMessage(query)]\n",
        "output = app.invoke({\"messages\": input_messages}, config)\n",
        "output[\"messages\"][-1].pretty_print()"
      ]
    },
    {
      "cell_type": "markdown",
      "metadata": {
        "id": "rghr-D8z1moL"
      },
      "source": [
        "However, we can always go back to the original conversation (since we are persisting it in a database)"
      ]
    },
    {
      "cell_type": "code",
      "execution_count": null,
      "metadata": {
        "id": "z7swM3cF1moM"
      },
      "outputs": [],
      "source": [
        "config = {\"configurable\": {\"thread_id\": \"abc123\"}}\n",
        "\n",
        "input_messages = [HumanMessage(query)]\n",
        "output = app.invoke({\"messages\": input_messages}, config)\n",
        "output[\"messages\"][-1].pretty_print()"
      ]
    },
    {
      "cell_type": "markdown",
      "metadata": {
        "id": "wOHIoYFD1moN"
      },
      "source": [
        "This is how we can support a chatbot having conversations with many users!"
      ]
    },
    {
      "cell_type": "markdown",
      "metadata": {
        "id": "gm2DB-q-1moN"
      },
      "source": [
        "**TIP**\n",
        "\n",
        "For async support, update the call_model node to be an async function and use .ainvoke when invoking the application:"
      ]
    },
    {
      "cell_type": "markdown",
      "metadata": {
        "id": "U4VuyGL81moN"
      },
      "source": [
        "```python\n",
        "# Async function for node:\n",
        "async def call_model(state: MessagesState):\n",
        "    response = await model.ainvoke(state[\"messages\"])\n",
        "    return {\"messages\": response}\n",
        "\n",
        "\n",
        "# Define graph as before:\n",
        "workflow = StateGraph(state_schema=MessagesState)\n",
        "workflow.add_edge(START, \"model\")\n",
        "workflow.add_node(\"model\", call_model)\n",
        "app = workflow.compile(checkpointer=MemorySaver())\n",
        "\n",
        "# Async invocation:\n",
        "output = await app.ainvoke({\"messages\": input_messages}, config)\n",
        "output[\"messages\"][-1].pretty_print()\n",
        "```"
      ]
    },
    {
      "cell_type": "code",
      "execution_count": null,
      "metadata": {
        "id": "jbzeDIbdd71q"
      },
      "outputs": [],
      "source": [
        "# Async function for node:\n",
        "async def call_model(state: MessagesState):\n",
        "    response = await model.ainvoke(state[\"messages\"])\n",
        "    return {\"messages\": response}\n",
        "\n",
        "\n",
        "# Define graph as before:\n",
        "workflow = StateGraph(state_schema=MessagesState)\n",
        "workflow.add_edge(START, \"model\")\n",
        "workflow.add_node(\"model\", call_model)\n",
        "app = workflow.compile(checkpointer=MemorySaver())\n",
        "\n",
        "# Async invocation:\n",
        "output = await app.ainvoke({\"messages\": input_messages}, config)\n",
        "output[\"messages\"][-1].pretty_print()"
      ]
    },
    {
      "cell_type": "markdown",
      "metadata": {
        "id": "9KzzfPvv1moO"
      },
      "source": [
        "Right now, all we've done is add a simple persistence layer around the model. We can start to make the chatbot more complicated and personalized by adding in a prompt template."
      ]
    },
    {
      "cell_type": "markdown",
      "metadata": {
        "id": "IDZHFdra1moO"
      },
      "source": [
        "# Prompt templates\n",
        "Prompt Templates help to turn raw user information into a format that the LLM can work with. In this case, the raw user input is just a message, which we are passing to the LLM. Let's now make that a bit more complicated. First, let's add in a system message with some custom instructions (but still taking messages as input). Next, we'll add in more input besides just the messages.\n",
        "\n",
        "To add in a system message, we will create a ChatPromptTemplate. We will utilize MessagesPlaceholder to pass all the messages in."
      ]
    },
    {
      "cell_type": "code",
      "execution_count": null,
      "metadata": {
        "id": "_ijj_VkC1moO"
      },
      "outputs": [],
      "source": [
        "from langchain_core.prompts import ChatPromptTemplate, MessagesPlaceholder\n",
        "\n",
        "prompt = ChatPromptTemplate.from_messages(\n",
        "    [\n",
        "        (\n",
        "            \"system\",\n",
        "            \"You talk like a pirate. Answer all questions to the best of your ability.\",\n",
        "        ),\n",
        "        MessagesPlaceholder(variable_name=\"messages\"),\n",
        "    ]\n",
        ")"
      ]
    },
    {
      "cell_type": "markdown",
      "metadata": {
        "id": "Dl03caOq1moP"
      },
      "source": [
        "We can now update our application to incorporate this template:"
      ]
    },
    {
      "cell_type": "code",
      "execution_count": null,
      "metadata": {
        "id": "4HrH9lPe1moP"
      },
      "outputs": [],
      "source": [
        "workflow = StateGraph(state_schema=MessagesState)\n",
        "\n",
        "\n",
        "def call_model(state: MessagesState):\n",
        "    chain = prompt | model\n",
        "    response = chain.invoke(state)\n",
        "    return {\"messages\": response}\n",
        "\n",
        "\n",
        "workflow.add_edge(START, \"model\")\n",
        "workflow.add_node(\"model\", call_model)\n",
        "\n",
        "memory = MemorySaver()\n",
        "app = workflow.compile(checkpointer=memory)"
      ]
    },
    {
      "cell_type": "markdown",
      "metadata": {
        "id": "6DK4iNuM1moQ"
      },
      "source": [
        "We invoke the application in the same way:"
      ]
    },
    {
      "cell_type": "code",
      "execution_count": null,
      "metadata": {
        "id": "952XpjRG1moQ"
      },
      "outputs": [],
      "source": [
        "config = {\"configurable\": {\"thread_id\": \"abc345\"}}\n",
        "query = \"Hi! I'm Jim.\"\n",
        "\n",
        "input_messages = [HumanMessage(query)]\n",
        "output = app.invoke({\"messages\": input_messages}, config)\n",
        "output[\"messages\"][-1].pretty_print()"
      ]
    },
    {
      "cell_type": "code",
      "execution_count": null,
      "metadata": {
        "id": "F8_5_d7z1moR"
      },
      "outputs": [],
      "source": [
        "query = \"What is my name?\"\n",
        "\n",
        "input_messages = [HumanMessage(query)]\n",
        "output = app.invoke({\"messages\": input_messages}, config)\n",
        "output[\"messages\"][-1].pretty_print()"
      ]
    },
    {
      "cell_type": "markdown",
      "metadata": {
        "id": "3esVaaWu1moS"
      },
      "source": [
        "Awesome! Let's now make our prompt a little bit more complicated. Let's assume that the prompt template now looks something like this:"
      ]
    },
    {
      "cell_type": "code",
      "execution_count": null,
      "metadata": {
        "id": "7NIzQS9W1moS"
      },
      "outputs": [],
      "source": [
        "prompt = ChatPromptTemplate.from_messages(\n",
        "    [\n",
        "        (\n",
        "            \"system\",\n",
        "            \"You are a helpful assistant. Answer all questions to the best of your ability in {language}.\",\n",
        "        ),\n",
        "        MessagesPlaceholder(variable_name=\"messages\"),\n",
        "    ]\n",
        ")"
      ]
    },
    {
      "cell_type": "markdown",
      "metadata": {
        "id": "ptbT6lcH1moT"
      },
      "source": [
        "Note that we have added a new language input to the prompt. Our application now has two parameters-- the input messages and language. We should update our application's state to reflect this:"
      ]
    },
    {
      "cell_type": "code",
      "execution_count": null,
      "metadata": {
        "id": "Hrscu-d81moT"
      },
      "outputs": [],
      "source": [
        "from typing import Sequence\n",
        "\n",
        "from langchain_core.messages import BaseMessage\n",
        "from langgraph.graph.message import add_messages\n",
        "from typing_extensions import Annotated, TypedDict\n",
        "\n",
        "\n",
        "class State(TypedDict):\n",
        "    messages: Annotated[Sequence[BaseMessage], add_messages]\n",
        "    language: str\n",
        "\n",
        "\n",
        "workflow = StateGraph(state_schema=State)\n",
        "\n",
        "\n",
        "def call_model(state: State):\n",
        "    chain = prompt | model\n",
        "    response = chain.invoke(state)\n",
        "    return {\"messages\": [response]}\n",
        "\n",
        "\n",
        "workflow.add_edge(START, \"model\")\n",
        "workflow.add_node(\"model\", call_model)\n",
        "\n",
        "memory = MemorySaver()\n",
        "app = workflow.compile(checkpointer=memory)"
      ]
    },
    {
      "cell_type": "code",
      "execution_count": null,
      "metadata": {
        "id": "1tQ4_XTb1mou"
      },
      "outputs": [],
      "source": [
        "config = {\"configurable\": {\"thread_id\": \"abc456\"}}\n",
        "query = \"Hi! I'm Bob.\"\n",
        "language = \"Spanish\"\n",
        "\n",
        "input_messages = [HumanMessage(query)]\n",
        "output = app.invoke(\n",
        "    {\"messages\": input_messages, \"language\": language},\n",
        "    config,\n",
        ")\n",
        "output[\"messages\"][-1].pretty_print()"
      ]
    },
    {
      "cell_type": "markdown",
      "metadata": {
        "id": "J04AqKvc1mov"
      },
      "source": [
        "Note that the entire state is persisted, so we can omit parameters like language if no changes are desired:"
      ]
    },
    {
      "cell_type": "code",
      "execution_count": null,
      "metadata": {
        "id": "RVYX1XuA1mov"
      },
      "outputs": [],
      "source": [
        "query = \"What is my name?\"\n",
        "\n",
        "input_messages = [HumanMessage(query)]\n",
        "output = app.invoke(\n",
        "    {\"messages\": input_messages},\n",
        "    config,\n",
        ")\n",
        "output[\"messages\"][-1].pretty_print()"
      ]
    },
    {
      "cell_type": "markdown",
      "metadata": {
        "id": "xwL6DaPP1mow"
      },
      "source": [
        "To help you understand what's happening internally, check out this LangSmith trace."
      ]
    },
    {
      "cell_type": "markdown",
      "metadata": {
        "id": "mv_Rh6mJ1mox"
      },
      "source": [
        "# Managing Conversation History\n",
        "One important concept to understand when building chatbots is how to manage conversation history. If left unmanaged, the list of messages will grow unbounded and potentially overflow the context window of the LLM. Therefore, it is important to add a step that limits the size of the messages you are passing in.\n",
        "\n",
        "Importantly, you will want to do this BEFORE the prompt template but AFTER you load previous messages from Message History.\n",
        "\n",
        "We can do this by adding a simple step in front of the prompt that modifies the messages key appropriately, and then wrap that new chain in the Message History class.\n",
        "\n",
        "LangChain comes with a few built-in helpers for managing a list of messages. In this case we'll use the trim_messages helper to reduce how many messages we're sending to the model. The trimmer allows us to specify how many tokens we want to keep, along with other parameters like if we want to always keep the system message and whether to allow partial messages:"
      ]
    },
    {
      "cell_type": "code",
      "execution_count": null,
      "metadata": {
        "id": "1eKKe0T31moy"
      },
      "outputs": [],
      "source": [
        "from langchain_core.messages  import SystemMessage, trim_messages\n",
        "\n",
        "# -----------エラーが出るので修正 start\n",
        "from transformers import GPT2Tokenizer\n",
        "# トークンカウンターとしてGPT-2トークナイザーを使用\n",
        "tokenizer = GPT2Tokenizer.from_pretrained(\"gpt2\")\n",
        "\n",
        "def token_counter(message):\n",
        "    # Check if the input is a list of messages\n",
        "    if isinstance(message, list):\n",
        "        # If it's a list, calculate the total tokens for all messages in the list\n",
        "        return sum(len(tokenizer.encode(m.content)) for m in message)\n",
        "    # Otherwise, it's a single message, so proceed as before\n",
        "    return len(tokenizer.encode(message.content))\n",
        "# ----------エラーが出るので修正 end\n",
        "\n",
        "trimmer = trim_messages(\n",
        "    max_tokens=65,\n",
        "    strategy=\"last\",\n",
        "#    token_counter=model, エラーが出るので修正\n",
        "    token_counter=token_counter,\n",
        "    include_system=True,\n",
        "    allow_partial=False,\n",
        "    start_on=\"human\",\n",
        ")\n",
        "\n",
        "messages = [\n",
        "    SystemMessage(content=\"you're a good assistant\"),\n",
        "    HumanMessage(content=\"hi! I'm bob\"),\n",
        "    AIMessage(content=\"hi!\"),\n",
        "    HumanMessage(content=\"I like vanilla ice cream\"),\n",
        "    AIMessage(content=\"nice\"),\n",
        "    HumanMessage(content=\"whats 2 + 2\"),\n",
        "    AIMessage(content=\"4\"),\n",
        "    HumanMessage(content=\"thanks\"),\n",
        "    AIMessage(content=\"no problem!\"),\n",
        "    HumanMessage(content=\"having fun?\"),\n",
        "    AIMessage(content=\"yes!\"),\n",
        "]\n",
        "\n",
        "trimmer.invoke(messages)"
      ]
    },
    {
      "cell_type": "markdown",
      "metadata": {
        "id": "PA-CEwuv1moy"
      },
      "source": [
        "To use it in our chain, we just need to run the trimmer before we pass the messages input to our prompt."
      ]
    },
    {
      "cell_type": "code",
      "execution_count": null,
      "metadata": {
        "id": "V-1Sm_SN1moz"
      },
      "outputs": [],
      "source": [
        "workflow = StateGraph(state_schema=State)\n",
        "\n",
        "\n",
        "def call_model(state: State):\n",
        "    chain = prompt | model\n",
        "    trimmed_messages = trimmer.invoke(state[\"messages\"])\n",
        "    response = chain.invoke(\n",
        "        {\"messages\": trimmed_messages, \"language\": state[\"language\"]}\n",
        "    )\n",
        "    return {\"messages\": [response]}\n",
        "\n",
        "\n",
        "workflow.add_edge(START, \"model\")\n",
        "workflow.add_node(\"model\", call_model)\n",
        "\n",
        "memory = MemorySaver()\n",
        "app = workflow.compile(checkpointer=memory)"
      ]
    },
    {
      "cell_type": "markdown",
      "metadata": {
        "id": "c7RUVWPy1mo0"
      },
      "source": [
        "Now if we try asking the model our name, it won't know it since we trimmed that part of the chat history:"
      ]
    },
    {
      "cell_type": "code",
      "execution_count": null,
      "metadata": {
        "id": "Tb484PwG1mo0"
      },
      "outputs": [],
      "source": [
        "config = {\"configurable\": {\"thread_id\": \"abc567\"}}\n",
        "query = \"What is my name?\"\n",
        "language = \"English\"\n",
        "\n",
        "input_messages = messages[1:] + [HumanMessage(query)]\n",
        "#input_messages = messages + [HumanMessage(query)] エラーが出るので修正\n",
        "output = app.invoke(\n",
        "    {\"messages\": input_messages, \"language\": language},\n",
        "    config,\n",
        ")\n",
        "output[\"messages\"][-1].pretty_print()"
      ]
    },
    {
      "cell_type": "markdown",
      "metadata": {
        "id": "uNDuukXpiNpG"
      },
      "source": [
        "But if we ask about information that is within the last few messages, it remembers:"
      ]
    },
    {
      "cell_type": "code",
      "execution_count": null,
      "metadata": {
        "id": "_SxlyLdQiO4S"
      },
      "outputs": [],
      "source": [
        "config = {\"configurable\": {\"thread_id\": \"abc678\"}}\n",
        "query = \"What math problem did I ask?\"\n",
        "language = \"English\"\n",
        "\n",
        "#input_messages = messages[1:] + [HumanMessage(query)] エラーが出るので修正\n",
        "input_messages = messages[1:] + [HumanMessage(query)]\n",
        "output = app.invoke(\n",
        "    {\"messages\": input_messages, \"language\": language},\n",
        "    config,\n",
        ")\n",
        "output[\"messages\"][-1].pretty_print()"
      ]
    },
    {
      "cell_type": "markdown",
      "metadata": {
        "id": "Ft0Txj4KidZi"
      },
      "source": [
        "If you take a look at LangSmith, you can see exactly what is happening under the hood in the LangSmith trace."
      ]
    },
    {
      "cell_type": "markdown",
      "metadata": {
        "id": "kLGOOEcOizjU"
      },
      "source": [
        "# Streaming"
      ]
    },
    {
      "cell_type": "markdown",
      "metadata": {
        "id": "iCd60mtVi1_C"
      },
      "source": [
        "Now we've got a functioning chatbot. However, one really important UX consideration for chatbot applications is streaming. LLMs can sometimes take a while to respond, and so in order to improve the user experience one thing that most applications do is stream back each token as it is generated. This allows the user to see progress.\n",
        "\n",
        "It's actually super easy to do this!\n",
        "\n",
        "By default, .stream in our LangGraph application streams application steps-- in this case, the single step of the model response. Setting stream_mode=\"messages\" allows us to stream output tokens instead:"
      ]
    },
    {
      "cell_type": "code",
      "execution_count": null,
      "metadata": {
        "id": "GuE_ZiTNi63t"
      },
      "outputs": [],
      "source": [
        "config = {\"configurable\": {\"thread_id\": \"abc789\"}}\n",
        "query = \"Hi I'm Todd, please tell me a joke.\"\n",
        "language = \"English\"\n",
        "\n",
        "input_messages = [HumanMessage(query)]\n",
        "for chunk, metadata in app.stream(\n",
        "    {\"messages\": input_messages, \"language\": language},\n",
        "    config,\n",
        "    stream_mode=\"messages\",\n",
        "):\n",
        "    if isinstance(chunk, AIMessage):  # Filter to just model responses\n",
        "        print(chunk.content, end=\"|\")"
      ]
    },
    {
      "cell_type": "markdown",
      "metadata": {
        "id": "sDd25h1yjBD5"
      },
      "source": [
        "# Next Steps"
      ]
    },
    {
      "cell_type": "markdown",
      "metadata": {
        "id": "kgy3cbWXjFyv"
      },
      "source": [
        "Now that you understand the basics of how to create a chatbot in LangChain, some more advanced tutorials you may be interested in are:\n",
        "\n",
        "* [Conversational RAG](https://python.langchain.com/docs/tutorials/qa_chat_history/): Enable a chatbot experience over an external source of data\n",
        "* [Agents](https://python.langchain.com/docs/tutorials/agents/): Build a chatbot that can take actions\n",
        "If you want to dive deeper on specifics, some things worth checking out are:\n",
        "\n",
        "* [Streaming](https://python.langchain.com/docs/how_to/streaming/): streaming is crucial for chat applications\n",
        "* [How to add message history](https://python.langchain.com/docs/how_to/message_history/): for a deeper dive into all things related to message history\n",
        "* [How to manage large message history](https://python.langchain.com/docs/how_to/trim_messages/): more techniques for managing a large chat history\n",
        "* [LangGraph main docs](https://langchain-ai.github.io/langgraph/): for more detail on building with LangGraph"
      ]
    }
  ],
  "metadata": {
    "colab": {
      "provenance": [],
      "include_colab_link": true
    },
    "kernelspec": {
      "display_name": ".venv",
      "language": "python",
      "name": "python3"
    },
    "language_info": {
      "codemirror_mode": {
        "name": "ipython",
        "version": 3
      },
      "file_extension": ".py",
      "mimetype": "text/x-python",
      "name": "python",
      "nbconvert_exporter": "python",
      "pygments_lexer": "ipython3",
      "version": "3.12.7"
    }
  },
  "nbformat": 4,
  "nbformat_minor": 0
}